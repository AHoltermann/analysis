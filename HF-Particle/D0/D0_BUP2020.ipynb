{
 "cells": [
  {
   "cell_type": "code",
   "execution_count": 1,
   "metadata": {},
   "outputs": [],
   "source": [
    "%%cpp -d\n",
    "\n",
    "// $Id: $\n",
    "\n",
    "/*!\n",
    " * \\file makeRAA_BUP2020.C\n",
    " * \\brief \n",
    " * \\author Jin Huang <jhuang@bnl.gov>\n",
    " * \\version $Revision:   $\n",
    " * \\date $Date: $\n",
    " */\n",
    "\n",
    "#include \"SaveCanvas.C\"\n",
    "#include \"sPhenixStyle.C\"\n",
    "\n",
    "#include <TChain.h>\n",
    "#include <TCut.h>\n",
    "#include <TEfficiency.h>\n",
    "#include <TF1.h>\n",
    "#include <TGraphAsymmErrors.h>\n",
    "#include <TGraphErrors.h>\n",
    "#include <TH2.h>\n",
    "#include <TH3.h>\n",
    "#include <TPolyLine.h>\n",
    "\n",
    "#include <TFile.h>\n",
    "\n",
    "#include <TColor.h>\n",
    "#include <TLatex.h>\n",
    "#include <TLegend.h>\n",
    "#include <TLine.h>\n",
    "#include <TStyle.h>\n",
    "\n",
    "#include <TMath.h>\n",
    "#include <TPad.h>\n",
    "#include <TString.h>\n",
    "#include <TTree.h>\n",
    "#include <TVectorD.h>\n",
    "#include <TVirtualFitter.h>\n",
    "\n",
    "#include <cmath>\n",
    "#include <iostream>\n",
    "\n",
    "using namespace std;\n",
    "// ROOT6 disabled assert. Well....\n",
    "#ifdef assert\n",
    "#undef assert\n",
    "#endif\n",
    "#define assert(exp)                                                                             \\\n",
    "  {                                                                                             \\\n",
    "    if (!(exp))                                                                                 \\\n",
    "    {                                                                                           \\\n",
    "      cout << \"Assert (\" << #exp << \") failed at \" << __FILE__ << \" line \" << __LINE__ << endl; \\\n",
    "    }                                                                                           \\\n",
    "  }"
   ]
  },
  {
   "cell_type": "code",
   "execution_count": 2,
   "metadata": {},
   "outputs": [
    {
     "name": "stdout",
     "output_type": "stream",
     "text": [
      "sPhenixStyle: Applying nominal settings.\n",
      "sPhenixStyle: ROOT6 mode\n"
     ]
    }
   ],
   "source": [
    "SetsPhenixStyle();\n",
    "gStyle->SetOptStat(0);\n",
    "gStyle->SetOptFit(1111);\n",
    "TVirtualFitter::SetDefaultFitter(\"Minuit2\");"
   ]
  },
  {
   "cell_type": "markdown",
   "metadata": {},
   "source": [
    "# Constants and inputs"
   ]
  },
  {
   "cell_type": "code",
   "execution_count": 3,
   "metadata": {},
   "outputs": [],
   "source": [
    "\n",
    "const double refAuAuMB = 240e9;\n",
    "const double refAuAuXSec = 6.8252;  // b\n",
    "TString refD0_significance_TFile = \"D0_significance.root\";\n",
    "const double Psi2_resolution = 0.5;\n",
    "\n",
    "const double AuAu_Ncoll_C0_10 = 960.2;  // [DOI:?10.1103/PhysRevC.87.034911?]\n",
    "const double AuAu_Ncoll_C0_20 = 770.6;  // [DOI:?10.1103/PhysRevC.91.064904?]\n",
    "const double AuAu_Ncoll_60_70 = 29.8;   //PHYSICAL REVIEW C 87, 034911 (2013)\n",
    "const double AuAu_Ncoll_70_80 = 12.6;   //PHYSICAL REVIEW C 87, 034911 (2013)\n",
    "const double AuAu_Ncoll_C0_100 = 238.5;   // BUP2020\n",
    "const double pAu_Ncoll_C0_100 = 4.7;    // pb^-1 [sPH-TRG-000]\n",
    "\n",
    "const double AuAu_rec_3year = (5.7 + 15) * 1e9;       // BUP2020\n",
    "const double AuAu_rec_5year = AuAu_rec_3year + 30e9;  // BUP2020\n",
    "\n",
    "const double pp_inelastic_crosssec = 42e-3;        // 42 mb [sPH-TRG-000]\n",
    "const double pp_rec_3year = 6.2e12;                // BUP2020\n",
    "const double pp_rec_5year = pp_rec_3year + 80e12;  // BUP2020\n",
    "const double pp_beam_pol = 0.57;\n",
    "\n",
    "const double OO_rec_5year = 37e9;  // BUP2020\n",
    "const double OO_Ncoll_C0_100 = 9.6;   // BUP2020\n",
    "const double OO_inelastic_crosssec = 1.12214;   // BUP2020\n",
    "\n",
    "const double ArAr_rec_5year = 12e9;  // BUP2020\n",
    "const double ArAr_Ncoll_C0_100 = 28.5;   // BUP2020\n",
    "const double ArAr_inelastic_crosssec = 2.3423;   // BUP2020\n"
   ]
  },
  {
   "cell_type": "markdown",
   "metadata": {},
   "source": [
    "# ROOT data Inputs\n",
    "\n",
    "Based on sPH-HF-2017-002"
   ]
  },
  {
   "cell_type": "code",
   "execution_count": 4,
   "metadata": {},
   "outputs": [],
   "source": [
    "TFile *fin1 = new TFile(refD0_significance_TFile);\n",
    "assert(fin1);\n",
    "\n",
    "TGraph *gProD0_0_10_noPid = (TGraph *) fin1->Get(\"gProD0_0_10_noPid\");\n",
    "assert(gProD0_0_10_noPid);\n",
    "TGraph *gNonProD0_0_10_noPid = (TGraph *) fin1->Get(\"gNonProD0_0_10_noPid\");\n",
    "assert(gNonProD0_0_10_noPid);\n",
    "\n",
    "TGraph *gProD0_10_40_noPid = (TGraph *) fin1->Get(\"gProD0_10_40_noPid\");\n",
    "assert(gProD0_10_40_noPid);\n",
    "TGraph *gNonProD0_10_40_noPid = (TGraph *) fin1->Get(\"gNonProD0_10_40_noPid\");\n",
    "assert(gNonProD0_10_40_noPid);\n",
    "\n",
    "TGraph *gProD0_60_80_noPid = (TGraph *) fin1->Get(\"gProD0_60_80_noPid\");\n",
    "assert(gProD0_60_80_noPid);\n",
    "TGraph *gNonProD0_60_80_noPid = (TGraph *) fin1->Get(\"gNonProD0_60_80_noPid\");\n",
    "assert(gNonProD0_60_80_noPid);\n",
    "\n",
    "TGraph *gProD0_0_80_noPid = (TGraph *) fin1->Get(\"gProD0_0_80_noPid\");\n",
    "assert(gProD0_0_80_noPid);\n",
    "TGraph *gNonProD0_0_80_noPid = (TGraph *) fin1->Get(\"gNonProD0_0_80_noPid\");\n",
    "assert(gNonProD0_0_80_noPid);\n",
    "\n",
    "TFile *_file0 = new TFile(\"RAA_DB_theory.root\");\n",
    "assert(_file0);\n",
    "\n",
    "TGraph *RAA_pi = (TGraph *) _file0->GetObjectChecked(\"RAA_pi\", \"TGraph\");\n",
    "assert(RAA_pi);\n",
    "TGraph *RAA_D = (TGraph *) _file0->GetObjectChecked(\"RAA_D\", \"TGraph\");\n",
    "assert(RAA_D);\n",
    "TGraph *RAA_B = (TGraph *) _file0->GetObjectChecked(\"RAA_B\", \"TGraph\");\n",
    "assert(RAA_B);\n",
    "TGraph *RAA_D0_B = (TGraph *) _file0->GetObjectChecked(\"RAA_D0_B\", \"TGraph\");\n",
    "assert(RAA_D0_B);\n",
    "TGraphErrors *RAA_proj_D = (TGraphErrors *) _file0->GetObjectChecked(\"RAA_proj_D\", \"TGraph\");\n",
    "assert(RAA_proj_D);\n",
    "TGraphErrors *RAA_proj_D_B = (TGraphErrors *) _file0->GetObjectChecked(\"RAA_proj_D_B\", \"TGraph\");\n",
    "assert(RAA_proj_D_B);\n",
    "\n",
    "TFile *_file1 = new TFile(\"v2_DB_10_40.root\");\n",
    "assert(_file1);\n",
    "\n",
    "TGraph *v2_D = (TGraph *) _file1->GetObjectChecked(\"v2_D\", \"TGraph\");\n",
    "assert(v2_D);\n",
    "TGraph *v2_B = (TGraph *) _file1->GetObjectChecked(\"v2_B\", \"TGraph\");\n",
    "assert(v2_B);\n",
    "TGraph *v2_D_B = (TGraph *) _file1->GetObjectChecked(\"v2_D_B\", \"TGraph\");\n",
    "assert(v2_D_B);\n",
    "TGraphErrors *v2_proj_D = (TGraphErrors *) _file1->GetObjectChecked(\"v2_proj_D\", \"TGraph\");\n",
    "assert(v2_proj_D);\n",
    "TGraphErrors *v2_proj_D_B = (TGraphErrors *) _file1->GetObjectChecked(\"v2_proj_D_B\", \"TGraph\");\n",
    "assert(v2_proj_D_B);"
   ]
  },
  {
   "cell_type": "markdown",
   "metadata": {},
   "source": [
    "# Significance calculations"
   ]
  },
  {
   "cell_type": "markdown",
   "metadata": {},
   "source": [
    "## Utilities"
   ]
  },
  {
   "cell_type": "code",
   "execution_count": 5,
   "metadata": {},
   "outputs": [],
   "source": [
    "%%cpp -d\n",
    "\n",
    "TGraph *GetSignificance(const TGraph *refAuAuSignificance, const double AuAu_centrality_ncoll, const double N_Collision, const double centrality_ncoll)\n",
    "{\n",
    "  TGraph *ret = new TGraph(*refAuAuSignificance);\n",
    "\n",
    "  double max(0);\n",
    "  for (int i = 0; i < ret->GetN(); ++i)\n",
    "  {\n",
    "    ret->GetY()[i] *= sqrt(N_Collision * centrality_ncoll / refAuAuMB / AuAu_centrality_ncoll);\n",
    "\n",
    "    max = std::max(max, ret->GetY()[i]);\n",
    "  }\n",
    "\n",
    "  ret->SetMaximum(max * 1.2);\n",
    "  ret->SetTitle(Form(\"Significance for N_Collision = %.4e centrality_ncoll = %.4e, based on %s\",\n",
    "                     N_Collision, centrality_ncoll, refAuAuSignificance->GetTitle()));\n",
    "  return ret;\n",
    "}"
   ]
  },
  {
   "cell_type": "markdown",
   "metadata": {},
   "source": [
    "## 3 year pp runs"
   ]
  },
  {
   "cell_type": "code",
   "execution_count": 6,
   "metadata": {},
   "outputs": [],
   "source": [
    " const  TGraph *gProD0_Significance_pp_3year = GetSignificance(\n",
    "      gProD0_60_80_noPid,                           //        const TVectorD &refAuAuSignificance,\n",
    "      0.1 * (AuAu_Ncoll_60_70 + AuAu_Ncoll_70_80),  //        const double AuAu_centrality_ncoll,\n",
    "      pp_inelastic_crosssec * pp_rec_3year,         //        const double N_Collision,\n",
    "      1                                             //        const double centrality_ncoll\n",
    "  );\n",
    "  const TGraph *gNonProD0_Significance_pp_3year = GetSignificance(\n",
    "      gNonProD0_60_80_noPid,                        //        const TVectorD &refAuAuSignificance,\n",
    "      0.1 * (AuAu_Ncoll_60_70 + AuAu_Ncoll_70_80),  //        const double AuAu_centrality_ncoll,\n",
    "      pp_inelastic_crosssec * pp_rec_3year,         //        const double N_Collision,\n",
    "      1                                             //        const double centrality_ncoll\n",
    "  );"
   ]
  },
  {
   "cell_type": "code",
   "execution_count": 7,
   "metadata": {},
   "outputs": [
    {
     "name": "stderr",
     "output_type": "stream",
     "text": [
      "Info in <TCanvas::Print>: png file fig_BUP2020/D0_BUP2020pp_significance_3yr.png has been created\n"
     ]
    },
    {
     "name": "stdout",
     "output_type": "stream",
     "text": [
      "Save TH1 hframe\n",
      "Save TGraph Graph\n",
      "Save TH1 hframe\n",
      "Save TGraph Graph\n"
     ]
    },
    {
     "name": "stderr",
     "output_type": "stream",
     "text": [
      "Info in <TCanvas::SaveAs>: ROOT file fig_BUP2020/D0_BUP2020pp_significance_3yr.root has been created\n",
      "Info in <TCanvas::Print>: eps file fig_BUP2020/D0_BUP2020pp_significance_3yr.eps has been created\n",
      "Info in <TCanvas::Print>: SVG file fig_BUP2020/D0_BUP2020pp_significance_3yr.svg has been created\n"
     ]
    },
    {
     "data": {
      "image/png": "[encoded data removed]",
      "text/plain": [
       "<IPython.core.display.Image object>"
      ]
     },
     "metadata": {},
     "output_type": "display_data"
    },
    {
     "name": "stdout",
     "output_type": "stream",
     "text": [
      "removed ‘fig_BUP2020/D0_BUP2020pp_significance_3yr.svg’\n"
     ]
    },
    {
     "name": "stderr",
     "output_type": "stream",
     "text": [
      "Info in <TCanvas::SaveSource>: C++ Macro file: fig_BUP2020/D0_BUP2020pp_significance_3yr.C has been generated\n"
     ]
    }
   ],
   "source": [
    "{\n",
    "    TString s_suffix = \"_3yr\";\n",
    "\n",
    "    TCanvas *c1 = new TCanvas(\"D0_BUP2020pp_significance\" + s_suffix,\n",
    "                              \"D0_BUP2020pp_significance\" + s_suffix, 1100, 800);\n",
    "    c1->Divide(2, 1);\n",
    "    int idx = 1;\n",
    "    TPad *p;\n",
    "\n",
    "    p = (TPad *) c1->cd(idx++);\n",
    "    c1->Update();\n",
    "    p->DrawFrame(0, 0, 12, gProD0_Significance_pp_3year->GetMaximum())->SetTitle(\";p_{T} [GeV];Significance\");\n",
    "    gProD0_Significance_pp_3year->DrawClone(\"p\");\n",
    "\n",
    "    p = (TPad *) c1->cd(idx++);\n",
    "    c1->Update();\n",
    "    p->DrawFrame(0, 0, 12, gNonProD0_Significance_pp_3year->GetMaximum())->SetTitle(\";p_{T} [GeV];Significance\");\n",
    "    gNonProD0_Significance_pp_3year->DrawClone(\"p\");\n",
    "\n",
    "    c1->Draw();\n",
    "    SaveCanvas(c1, \"fig_BUP2020/\" + TString(c1->GetName()), kTRUE);\n",
    "}"
   ]
  },
  {
   "cell_type": "markdown",
   "metadata": {},
   "source": [
    "## 5 year pp runs"
   ]
  },
  {
   "cell_type": "code",
   "execution_count": 8,
   "metadata": {},
   "outputs": [],
   "source": [
    " const  TGraph *gProD0_Significance_pp_5year = GetSignificance(\n",
    "      gProD0_60_80_noPid,                           //        const TVectorD &refAuAuSignificance,\n",
    "      0.1 * (AuAu_Ncoll_60_70 + AuAu_Ncoll_70_80),  //        const double AuAu_centrality_ncoll,\n",
    "      pp_inelastic_crosssec * pp_rec_5year,         //        const double N_Collision,\n",
    "      1                                             //        const double centrality_ncoll\n",
    "  );\n",
    "  const TGraph *gNonProD0_Significance_pp_5year = GetSignificance(\n",
    "      gNonProD0_60_80_noPid,                        //        const TVectorD &refAuAuSignificance,\n",
    "      0.1 * (AuAu_Ncoll_60_70 + AuAu_Ncoll_70_80),  //        const double AuAu_centrality_ncoll,\n",
    "      pp_inelastic_crosssec * pp_rec_5year,         //        const double N_Collision,\n",
    "      1                                             //        const double centrality_ncoll\n",
    "  );"
   ]
  },
  {
   "cell_type": "code",
   "execution_count": 9,
   "metadata": {},
   "outputs": [
    {
     "name": "stderr",
     "output_type": "stream",
     "text": [
      "Info in <TCanvas::Print>: png file fig_BUP2020/D0_BUP2020pp_significance_5yr.png has been created\n"
     ]
    },
    {
     "name": "stdout",
     "output_type": "stream",
     "text": [
      "Save TH1 hframe\n",
      "Save TGraph Graph\n",
      "Save TH1 hframe\n",
      "Save TGraph Graph\n"
     ]
    },
    {
     "name": "stderr",
     "output_type": "stream",
     "text": [
      "Info in <TCanvas::SaveAs>: ROOT file fig_BUP2020/D0_BUP2020pp_significance_5yr.root has been created\n",
      "Info in <TCanvas::Print>: eps file fig_BUP2020/D0_BUP2020pp_significance_5yr.eps has been created\n",
      "Info in <TCanvas::Print>: SVG file fig_BUP2020/D0_BUP2020pp_significance_5yr.svg has been created\n"
     ]
    },
    {
     "data": {
      "image/png": "[encoded data removed]",
      "text/plain": [
       "<IPython.core.display.Image object>"
      ]
     },
     "metadata": {},
     "output_type": "display_data"
    },
    {
     "name": "stdout",
     "output_type": "stream",
     "text": [
      "removed ‘fig_BUP2020/D0_BUP2020pp_significance_5yr.svg’\n"
     ]
    },
    {
     "name": "stderr",
     "output_type": "stream",
     "text": [
      "Info in <TCanvas::SaveSource>: C++ Macro file: fig_BUP2020/D0_BUP2020pp_significance_5yr.C has been generated\n"
     ]
    }
   ],
   "source": [
    "{\n",
    "    TString s_suffix = \"_5yr\";\n",
    "\n",
    "    TCanvas *c1 = new TCanvas(\"D0_BUP2020pp_significance\" + s_suffix,\n",
    "                              \"D0_BUP2020pp_significance\" + s_suffix, 1100, 800);\n",
    "    c1->Divide(2, 1);\n",
    "    int idx = 1;\n",
    "    TPad *p;\n",
    "\n",
    "    p = (TPad *) c1->cd(idx++);\n",
    "    c1->Update();\n",
    "    p->DrawFrame(0, 0, 12, gProD0_Significance_pp_5year->GetMaximum())->SetTitle(\";p_{T} [GeV];Significance\");\n",
    "    gProD0_Significance_pp_5year->DrawClone(\"p\");\n",
    "\n",
    "    p = (TPad *) c1->cd(idx++);\n",
    "    c1->Update();\n",
    "    p->DrawFrame(0, 0, 12, gNonProD0_Significance_pp_5year->GetMaximum())->SetTitle(\";p_{T} [GeV];Significance\");\n",
    "    gNonProD0_Significance_pp_5year->DrawClone(\"p\");\n",
    "\n",
    "    c1->Draw();\n",
    "    SaveCanvas(c1, \"fig_BUP2020/\" + TString(c1->GetName()), kTRUE);\n",
    "}"
   ]
  },
  {
   "cell_type": "markdown",
   "metadata": {},
   "source": [
    "## 3 year AuAu runs, 0-10%"
   ]
  },
  {
   "cell_type": "code",
   "execution_count": 10,
   "metadata": {},
   "outputs": [],
   "source": [
    "const TGraph *gProD0_Significance_AuAu_0_10_3year = GetSignificance(\n",
    "  gProD0_0_10_noPid,             //        const TVectorD &refAuAuSignificance,\n",
    "  0.1 * AuAu_Ncoll_C0_10,       //        const double AuAu_centrality_ncoll,\n",
    "  AuAu_rec_3year * refAuAuXSec,  //        const double N_Collision,\n",
    "  0.1 * AuAu_Ncoll_C0_10         //        const double centrality_ncoll\n",
    ");\n",
    "const TGraph *gNonProD0_Significance_AuAu_0_10_3year = GetSignificance(\n",
    "  gNonProD0_0_10_noPid,          //        const TVectorD &refAuAuSignificance,\n",
    "  0.1 * AuAu_Ncoll_C0_10,       //        const double AuAu_centrality_ncoll,\n",
    "  AuAu_rec_3year * refAuAuXSec,  //        const double N_Collision,\n",
    "  0.1 * AuAu_Ncoll_C0_10         //        const double centrality_ncoll\n",
    ");"
   ]
  },
  {
   "cell_type": "code",
   "execution_count": 11,
   "metadata": {},
   "outputs": [
    {
     "name": "stdout",
     "output_type": "stream",
     "text": [
      "(double) 1.4128164e+11\n"
     ]
    }
   ],
   "source": [
    "AuAu_rec_3year * refAuAuXSec"
   ]
  },
  {
   "cell_type": "code",
   "execution_count": 12,
   "metadata": {},
   "outputs": [
    {
     "name": "stdout",
     "output_type": "stream",
     "text": [
      "Save TH1 hframe\n",
      "Save TGraph Graph\n",
      "Save TH1 hframe\n",
      "Save TGraph Graph\n"
     ]
    },
    {
     "name": "stderr",
     "output_type": "stream",
     "text": [
      "Info in <TCanvas::Print>: png file fig_BUP2020/D0_BUP2020AuAu_0_10_significance_3yr.png has been created\n",
      "Info in <TCanvas::SaveAs>: ROOT file fig_BUP2020/D0_BUP2020AuAu_0_10_significance_3yr.root has been created\n",
      "Info in <TCanvas::Print>: eps file fig_BUP2020/D0_BUP2020AuAu_0_10_significance_3yr.eps has been created\n",
      "Info in <TCanvas::Print>: SVG file fig_BUP2020/D0_BUP2020AuAu_0_10_significance_3yr.svg has been created\n"
     ]
    },
    {
     "data": {
      "image/png": "[encoded data removed]",
      "text/plain": [
       "<IPython.core.display.Image object>"
      ]
     },
     "metadata": {},
     "output_type": "display_data"
    },
    {
     "name": "stdout",
     "output_type": "stream",
     "text": [
      "removed ‘fig_BUP2020/D0_BUP2020AuAu_0_10_significance_3yr.svg’\n"
     ]
    },
    {
     "name": "stderr",
     "output_type": "stream",
     "text": [
      "Info in <TCanvas::SaveSource>: C++ Macro file: fig_BUP2020/D0_BUP2020AuAu_0_10_significance_3yr.C has been generated\n"
     ]
    }
   ],
   "source": [
    "{\n",
    "    TString s_suffix = \"_3yr\";\n",
    "\n",
    "    TCanvas *c1 = new TCanvas(\"D0_BUP2020AuAu_0_10_significance\" + s_suffix,\n",
    "                  \"D0_BUP2020AuAu_0_10_significance\" + s_suffix, 1100, 800);\n",
    "    c1->Divide(2, 1);\n",
    "    int idx = 1;\n",
    "    TPad *p;\n",
    "\n",
    "    p = (TPad *) c1->cd(idx++);\n",
    "    c1->Update();\n",
    "    p->DrawFrame(0, 0, 12, gProD0_Significance_AuAu_0_10_3year->GetMaximum())->SetTitle(\";p_{T} [GeV];Significance\");\n",
    "    gProD0_Significance_AuAu_0_10_3year->DrawClone(\"p\");\n",
    "\n",
    "    p = (TPad *) c1->cd(idx++);\n",
    "    c1->Update();\n",
    "    p->DrawFrame(0, 0, 12, gNonProD0_Significance_AuAu_0_10_3year->GetMaximum())->SetTitle(\";p_{T} [GeV];Significance\");\n",
    "    gNonProD0_Significance_AuAu_0_10_3year->DrawClone(\"p\");\n",
    "\n",
    "    c1->Draw();\n",
    "    SaveCanvas(c1, \"fig_BUP2020/\" + TString(c1->GetName()), kTRUE);\n",
    "}"
   ]
  },
  {
   "cell_type": "markdown",
   "metadata": {},
   "source": [
    "## 3 year AuAu runs, 0-80%"
   ]
  },
  {
   "cell_type": "code",
   "execution_count": 13,
   "metadata": {},
   "outputs": [],
   "source": [
    "const TGraph *gProD0_Significance_AuAu_0_80_3year = GetSignificance(\n",
    "  gProD0_0_80_noPid,             //        const TVectorD &refAuAuSignificance,\n",
    "  0.8 * AuAu_Ncoll_C0_100,       //        const double AuAu_centrality_ncoll,\n",
    "  AuAu_rec_3year * refAuAuXSec,  //        const double N_Collision,\n",
    "  0.8 * AuAu_Ncoll_C0_100        //        const double centrality_ncoll\n",
    ");\n",
    "const TGraph *gNonProD0_Significance_AuAu_0_80_3year = GetSignificance(\n",
    "  gNonProD0_0_80_noPid,          //        const TVectorD &refAuAuSignificance,\n",
    "  0.8 * AuAu_Ncoll_C0_100,       //        const double AuAu_centrality_ncoll,\n",
    "  AuAu_rec_3year * refAuAuXSec,  //        const double N_Collision,\n",
    "  0.8 * AuAu_Ncoll_C0_100        //        const double centrality_ncoll\n",
    ");"
   ]
  },
  {
   "cell_type": "code",
   "execution_count": 14,
   "metadata": {},
   "outputs": [
    {
     "name": "stderr",
     "output_type": "stream",
     "text": [
      "Info in <TCanvas::Print>: png file fig_BUP2020/D0_BUP2020AuAu_0_80_significance_3yr.png has been created\n"
     ]
    },
    {
     "name": "stdout",
     "output_type": "stream",
     "text": [
      "Save TH1 hframe\n",
      "Save TGraph Graph\n",
      "Save TH1 hframe\n",
      "Save TGraph Graph\n"
     ]
    },
    {
     "name": "stderr",
     "output_type": "stream",
     "text": [
      "Info in <TCanvas::SaveAs>: ROOT file fig_BUP2020/D0_BUP2020AuAu_0_80_significance_3yr.root has been created\n",
      "Info in <TCanvas::Print>: eps file fig_BUP2020/D0_BUP2020AuAu_0_80_significance_3yr.eps has been created\n",
      "Info in <TCanvas::Print>: SVG file fig_BUP2020/D0_BUP2020AuAu_0_80_significance_3yr.svg has been created\n"
     ]
    },
    {
     "data": {
      "image/png": "[encoded data removed]",
      "text/plain": [
       "<IPython.core.display.Image object>"
      ]
     },
     "metadata": {},
     "output_type": "display_data"
    },
    {
     "name": "stdout",
     "output_type": "stream",
     "text": [
      "removed ‘fig_BUP2020/D0_BUP2020AuAu_0_80_significance_3yr.svg’\n"
     ]
    },
    {
     "name": "stderr",
     "output_type": "stream",
     "text": [
      "Info in <TCanvas::SaveSource>: C++ Macro file: fig_BUP2020/D0_BUP2020AuAu_0_80_significance_3yr.C has been generated\n"
     ]
    }
   ],
   "source": [
    "{\n",
    "    TString s_suffix = \"_3yr\";\n",
    "\n",
    "\n",
    "    TCanvas *c1 = new TCanvas(\"D0_BUP2020AuAu_0_80_significance\" + s_suffix,\n",
    "                  \"D0_BUP2020AuAu_0_80_significance\" + s_suffix, 1100, 800);\n",
    "    c1->Divide(2, 1);\n",
    "    int idx = 1;\n",
    "    TPad *p;\n",
    "\n",
    "    p = (TPad *) c1->cd(idx++);\n",
    "    c1->Update();\n",
    "    p->DrawFrame(0, 0, 12, gProD0_Significance_AuAu_0_80_3year->GetMaximum())->SetTitle(\";p_{T} [GeV];Significance\");\n",
    "    gProD0_Significance_AuAu_0_80_3year->DrawClone(\"p\");\n",
    "\n",
    "    p = (TPad *) c1->cd(idx++);\n",
    "    c1->Update();\n",
    "    p->DrawFrame(0, 0, 12, gNonProD0_Significance_AuAu_0_80_3year->GetMaximum())->SetTitle(\";p_{T} [GeV];Significance\");\n",
    "    gNonProD0_Significance_AuAu_0_80_3year->DrawClone(\"p\");\n",
    "\n",
    "    c1->Draw();\n",
    "    SaveCanvas(c1, \"fig_BUP2020/\" + TString(c1->GetName()), kTRUE);\n",
    "}"
   ]
  },
  {
   "cell_type": "markdown",
   "metadata": {},
   "source": [
    "## 5 year AuAu runs, 0-80%"
   ]
  },
  {
   "cell_type": "code",
   "execution_count": 15,
   "metadata": {},
   "outputs": [],
   "source": [
    "const TGraph *gProD0_Significance_AuAu_0_80_5year = GetSignificance(\n",
    "  gProD0_0_80_noPid,             //        const TVectorD &refAuAuSignificance,\n",
    "  0.8 * AuAu_Ncoll_C0_100,       //        const double AuAu_centrality_ncoll,\n",
    "  AuAu_rec_5year * refAuAuXSec,  //        const double N_Collision,\n",
    "  0.8 * AuAu_Ncoll_C0_100        //        const double centrality_ncoll\n",
    ");\n",
    "const TGraph *gNonProD0_Significance_AuAu_0_80_5year = GetSignificance(\n",
    "  gNonProD0_0_80_noPid,          //        const TVectorD &refAuAuSignificance,\n",
    "  0.8 * AuAu_Ncoll_C0_100,       //        const double AuAu_centrality_ncoll,\n",
    "  AuAu_rec_5year * refAuAuXSec,  //        const double N_Collision,\n",
    "  0.8 * AuAu_Ncoll_C0_100        //        const double centrality_ncoll\n",
    ");"
   ]
  },
  {
   "cell_type": "code",
   "execution_count": 16,
   "metadata": {},
   "outputs": [
    {
     "name": "stderr",
     "output_type": "stream",
     "text": [
      "Info in <TCanvas::Print>: png file fig_BUP2020/D0_BUP2020AuAu_0_80_significance_5yr.png has been created\n"
     ]
    },
    {
     "name": "stdout",
     "output_type": "stream",
     "text": [
      "Save TH1 hframe\n",
      "Save TGraph Graph\n",
      "Save TH1 hframe\n",
      "Save TGraph Graph\n"
     ]
    },
    {
     "name": "stderr",
     "output_type": "stream",
     "text": [
      "Info in <TCanvas::SaveAs>: ROOT file fig_BUP2020/D0_BUP2020AuAu_0_80_significance_5yr.root has been created\n",
      "Info in <TCanvas::Print>: eps file fig_BUP2020/D0_BUP2020AuAu_0_80_significance_5yr.eps has been created\n",
      "Info in <TCanvas::Print>: SVG file fig_BUP2020/D0_BUP2020AuAu_0_80_significance_5yr.svg has been created\n"
     ]
    },
    {
     "data": {
      "image/png": "[encoded data removed]",
      "text/plain": [
       "<IPython.core.display.Image object>"
      ]
     },
     "metadata": {},
     "output_type": "display_data"
    },
    {
     "name": "stdout",
     "output_type": "stream",
     "text": [
      "removed ‘fig_BUP2020/D0_BUP2020AuAu_0_80_significance_5yr.svg’\n"
     ]
    },
    {
     "name": "stderr",
     "output_type": "stream",
     "text": [
      "Info in <TCanvas::SaveSource>: C++ Macro file: fig_BUP2020/D0_BUP2020AuAu_0_80_significance_5yr.C has been generated\n"
     ]
    }
   ],
   "source": [
    "{\n",
    "    TString s_suffix = \"_5yr\";\n",
    "\n",
    "\n",
    "    TCanvas *c1 = new TCanvas(\"D0_BUP2020AuAu_0_80_significance\" + s_suffix,\n",
    "                  \"D0_BUP2020AuAu_0_80_significance\" + s_suffix, 1100, 800);\n",
    "    c1->Divide(2, 1);\n",
    "    int idx = 1;\n",
    "    TPad *p;\n",
    "\n",
    "    p = (TPad *) c1->cd(idx++);\n",
    "    c1->Update();\n",
    "    p->DrawFrame(0, 0, 12, gProD0_Significance_AuAu_0_80_5year->GetMaximum())->SetTitle(\";p_{T} [GeV];Significance\");\n",
    "    gProD0_Significance_AuAu_0_80_5year->DrawClone(\"p\");\n",
    "\n",
    "    p = (TPad *) c1->cd(idx++);\n",
    "    c1->Update();\n",
    "    p->DrawFrame(0, 0, 12, gNonProD0_Significance_AuAu_0_80_5year->GetMaximum())->SetTitle(\";p_{T} [GeV];Significance\");\n",
    "    gNonProD0_Significance_AuAu_0_80_5year->DrawClone(\"p\");\n",
    "\n",
    "    c1->Draw();\n",
    "    SaveCanvas(c1, \"fig_BUP2020/\" + TString(c1->GetName()), kTRUE);\n",
    "}"
   ]
  },
  {
   "cell_type": "code",
   "execution_count": null,
   "metadata": {},
   "outputs": [],
   "source": []
  },
  {
   "cell_type": "markdown",
   "metadata": {},
   "source": [
    "## 5 year OO runs"
   ]
  },
  {
   "cell_type": "code",
   "execution_count": 17,
   "metadata": {},
   "outputs": [],
   "source": [
    "const TGraph *gProD0_Significance_OO_5year = GetSignificance(\n",
    "    gProD0_60_80_noPid,                           //        const TVectorD &refAuAuSignificance,\n",
    "    0.1 * (AuAu_Ncoll_60_70 + AuAu_Ncoll_70_80),  //        const double AuAu_centrality_ncoll,\n",
    "    OO_rec_5year * OO_inelastic_crosssec,  //        const double N_Collision,\n",
    "    OO_Ncoll_C0_100        //        const double centrality_ncoll\n",
    ");\n",
    "\n",
    "const TGraph *gNonProD0_Significance_OO_5year = GetSignificance(\n",
    "    gNonProD0_60_80_noPid,                           //        const TVectorD &refAuAuSignificance,\n",
    "    0.1 * (AuAu_Ncoll_60_70 + AuAu_Ncoll_70_80),  //        const double AuAu_centrality_ncoll,\n",
    "    OO_rec_5year * OO_inelastic_crosssec,  //        const double N_Collision,\n",
    "    OO_Ncoll_C0_100        //        const double centrality_ncoll\n",
    ");"
   ]
  },
  {
   "cell_type": "code",
   "execution_count": 18,
   "metadata": {},
   "outputs": [
    {
     "name": "stderr",
     "output_type": "stream",
     "text": [
      "Info in <TCanvas::Print>: png file fig_BUP2020/D0_BUP2020OO_significance_5yr.png has been created\n"
     ]
    },
    {
     "name": "stdout",
     "output_type": "stream",
     "text": [
      "Save TH1 hframe\n",
      "Save TGraph Graph\n",
      "Save TH1 hframe\n"
     ]
    },
    {
     "name": "stderr",
     "output_type": "stream",
     "text": [
      "Info in <TCanvas::SaveAs>: ROOT file fig_BUP2020/D0_BUP2020OO_significance_5yr.root has been created\n"
     ]
    },
    {
     "name": "stdout",
     "output_type": "stream",
     "text": [
      "Save TGraph Graph\n"
     ]
    },
    {
     "name": "stderr",
     "output_type": "stream",
     "text": [
      "Info in <TCanvas::Print>: eps file fig_BUP2020/D0_BUP2020OO_significance_5yr.eps has been created\n",
      "Info in <TCanvas::Print>: SVG file fig_BUP2020/D0_BUP2020OO_significance_5yr.svg has been created\n"
     ]
    },
    {
     "data": {
      "image/png": "[encoded data removed]",
      "text/plain": [
       "<IPython.core.display.Image object>"
      ]
     },
     "metadata": {},
     "output_type": "display_data"
    },
    {
     "name": "stdout",
     "output_type": "stream",
     "text": [
      "removed ‘fig_BUP2020/D0_BUP2020OO_significance_5yr.svg’\n"
     ]
    },
    {
     "name": "stderr",
     "output_type": "stream",
     "text": [
      "Info in <TCanvas::SaveSource>: C++ Macro file: fig_BUP2020/D0_BUP2020OO_significance_5yr.C has been generated\n"
     ]
    }
   ],
   "source": [
    "{\n",
    "    TString s_suffix = \"_5yr\";\n",
    "\n",
    "\n",
    "    TCanvas *c1 = new TCanvas(\"D0_BUP2020OO_significance\" + s_suffix,\n",
    "                  \"D0_BUP2020OO_significance\" + s_suffix, 1100, 800);\n",
    "    c1->Divide(2, 1);\n",
    "    int idx = 1;\n",
    "    TPad *p;\n",
    "\n",
    "    p = (TPad *) c1->cd(idx++);\n",
    "    c1->Update();\n",
    "    p->DrawFrame(0, 0, 12, gProD0_Significance_OO_5year->GetMaximum())->SetTitle(\";p_{T} [GeV];Significance\");\n",
    "    gProD0_Significance_OO_5year->DrawClone(\"p\");\n",
    "\n",
    "    p = (TPad *) c1->cd(idx++);\n",
    "    c1->Update();\n",
    "    p->DrawFrame(0, 0, 12, gNonProD0_Significance_OO_5year->GetMaximum())->SetTitle(\";p_{T} [GeV];Significance\");\n",
    "    gNonProD0_Significance_OO_5year->DrawClone(\"p\");\n",
    "\n",
    "    c1->Draw();\n",
    "    SaveCanvas(c1, \"fig_BUP2020/\" + TString(c1->GetName()), kTRUE);\n",
    "}"
   ]
  },
  {
   "cell_type": "code",
   "execution_count": 19,
   "metadata": {},
   "outputs": [
    {
     "name": "stdout",
     "output_type": "stream",
     "text": [
      "(double) 41.519180\n"
     ]
    }
   ],
   "source": [
    "OO_rec_5year*OO_inelastic_crosssec/1e9"
   ]
  },
  {
   "cell_type": "code",
   "execution_count": 20,
   "metadata": {},
   "outputs": [
    {
     "name": "stdout",
     "output_type": "stream",
     "text": [
      "(double) 398.58413\n"
     ]
    }
   ],
   "source": [
    "OO_rec_5year*OO_inelastic_crosssec/1e9*OO_Ncoll_C0_100"
   ]
  },
  {
   "cell_type": "code",
   "execution_count": 21,
   "metadata": {},
   "outputs": [
    {
     "name": "stdout",
     "output_type": "stream",
     "text": [
      "(double) 1467.1996\n"
     ]
    }
   ],
   "source": [
    "AuAu_rec_5year*refAuAuXSec*.1*(AuAu_Ncoll_60_70+AuAu_Ncoll_70_80)/1e9"
   ]
  },
  {
   "cell_type": "code",
   "execution_count": 22,
   "metadata": {},
   "outputs": [
    {
     "name": "stdout",
     "output_type": "stream",
     "text": [
      "(double) 4.0000000\n"
     ]
    }
   ],
   "source": [
    "pow(2,2)"
   ]
  },
  {
   "cell_type": "markdown",
   "metadata": {},
   "source": [
    "## 5 year ArAr runs"
   ]
  },
  {
   "cell_type": "code",
   "execution_count": 23,
   "metadata": {},
   "outputs": [],
   "source": [
    "const TGraph *gProD0_Significance_ArAr_5year = GetSignificance(\n",
    "    gProD0_60_80_noPid,                           //        const TVectorD &refAuAuSignificance,\n",
    "    0.1 * (AuAu_Ncoll_60_70 + AuAu_Ncoll_70_80),  //        const double AuAu_centrality_ncoll,\n",
    "    ArAr_rec_5year * ArAr_inelastic_crosssec,  //        const double N_Collision,\n",
    "    ArAr_Ncoll_C0_100        //        const double centrality_ncoll\n",
    ");\n",
    "\n",
    "const TGraph *gNonProD0_Significance_ArAr_5year = GetSignificance(\n",
    "    gNonProD0_60_80_noPid,                           //        const TVectorD &refAuAuSignificance,\n",
    "    0.1 * (AuAu_Ncoll_60_70 + AuAu_Ncoll_70_80),  //        const double AuAu_centrality_ncoll,\n",
    "    ArAr_rec_5year * ArAr_inelastic_crosssec,  //        const double N_Collision,\n",
    "    ArAr_Ncoll_C0_100        //        const double centrality_ncoll\n",
    ");"
   ]
  },
  {
   "cell_type": "code",
   "execution_count": 24,
   "metadata": {},
   "outputs": [
    {
     "name": "stderr",
     "output_type": "stream",
     "text": [
      "Info in <TCanvas::Print>: png file fig_BUP2020/D0_BUP2020ArAr_significance_5yr.png has been created\n"
     ]
    },
    {
     "name": "stdout",
     "output_type": "stream",
     "text": [
      "Save TH1 hframe\n",
      "Save TGraph Graph\n",
      "Save TH1 hframe\n",
      "Save TGraph Graph\n"
     ]
    },
    {
     "name": "stderr",
     "output_type": "stream",
     "text": [
      "Info in <TCanvas::SaveAs>: ROOT file fig_BUP2020/D0_BUP2020ArAr_significance_5yr.root has been created\n",
      "Info in <TCanvas::Print>: eps file fig_BUP2020/D0_BUP2020ArAr_significance_5yr.eps has been created\n",
      "Info in <TCanvas::Print>: SVG file fig_BUP2020/D0_BUP2020ArAr_significance_5yr.svg has been created\n"
     ]
    },
    {
     "data": {
      "image/png": "[encoded data removed]",
      "text/plain": [
       "<IPython.core.display.Image object>"
      ]
     },
     "metadata": {},
     "output_type": "display_data"
    },
    {
     "name": "stdout",
     "output_type": "stream",
     "text": [
      "removed ‘fig_BUP2020/D0_BUP2020ArAr_significance_5yr.svg’\n"
     ]
    },
    {
     "name": "stderr",
     "output_type": "stream",
     "text": [
      "Info in <TCanvas::SaveSource>: C++ Macro file: fig_BUP2020/D0_BUP2020ArAr_significance_5yr.C has been generated\n"
     ]
    }
   ],
   "source": [
    "{\n",
    "    TString s_suffix = \"_5yr\";\n",
    "\n",
    "\n",
    "    TCanvas *c1 = new TCanvas(\"D0_BUP2020ArAr_significance\" + s_suffix,\n",
    "                  \"D0_BUP2020ArAr_significance\" + s_suffix, 1100, 800);\n",
    "    c1->Divide(2, 1);\n",
    "    int idx = 1;\n",
    "    TPad *p;\n",
    "\n",
    "    p = (TPad *) c1->cd(idx++);\n",
    "    c1->Update();\n",
    "    p->DrawFrame(0, 0, 12, gProD0_Significance_ArAr_5year->GetMaximum())->SetTitle(\";p_{T} [GeV];Significance\");\n",
    "    gProD0_Significance_ArAr_5year->DrawClone(\"p\");\n",
    "\n",
    "    p = (TPad *) c1->cd(idx++);\n",
    "    c1->Update();\n",
    "    p->DrawFrame(0, 0, 12, gNonProD0_Significance_ArAr_5year->GetMaximum())->SetTitle(\";p_{T} [GeV];Significance\");\n",
    "    gNonProD0_Significance_ArAr_5year->DrawClone(\"p\");\n",
    "\n",
    "    c1->Draw();\n",
    "    SaveCanvas(c1, \"fig_BUP2020/\" + TString(c1->GetName()), kTRUE);\n",
    "}"
   ]
  },
  {
   "cell_type": "markdown",
   "metadata": {},
   "source": [
    "# RAA projection"
   ]
  },
  {
   "cell_type": "markdown",
   "metadata": {},
   "source": [
    "## Utilities"
   ]
  },
  {
   "cell_type": "code",
   "execution_count": 25,
   "metadata": {},
   "outputs": [],
   "source": [
    "%%cpp -d\n",
    "\n",
    "TGraphErrors *Significance2RAA(const TGraph *AASignificance, const TGraph *refSignificance, const TGraph *RAACentroid)\n",
    "{\n",
    "    assert(AASignificance);\n",
    "    assert(refSignificance);\n",
    "    assert(RAACentroid);\n",
    "    \n",
    "//     AASignificance->Print();\n",
    "//     refSignificance->Print();\n",
    "//     RAACentroid->Print();\n",
    "    \n",
    "    assert(AASignificance->GetN() == refSignificance->GetN());\n",
    "    \n",
    "    const int npoint = AASignificance->GetN() ;\n",
    "    \n",
    "    TVectorD x(npoint, AASignificance->GetX());\n",
    "    TVectorD y(npoint);\n",
    "    TVectorD ex(npoint);\n",
    "    TVectorD ey(npoint);\n",
    "    \n",
    "    for (int i = 0; i<npoint; ++i)\n",
    "    {\n",
    "        y[i] = RAACentroid->Eval(x[i]);   \n",
    "        ey[i] = y[i] * sqrt(1/pow( AASignificance->GetY()[i], 2) + 1/pow( refSignificance->GetY()[i], 2));        \n",
    "    }    \n",
    "    \n",
    "    TGraphErrors * gr = new TGraphErrors(x, y, ex, ey);\n",
    "    \n",
    "    return gr;\n",
    "}\n",
    "\n",
    "TGraphErrors *Significance2RAA(const TGraph *AASignificance, const TGraph *refSignificance, const double RAACentroid)\n",
    "{\n",
    "    assert(AASignificance);\n",
    "    assert(refSignificance);\n",
    "    \n",
    "    \n",
    "    assert(AASignificance->GetN() == refSignificance->GetN());\n",
    "    \n",
    "    const int npoint = AASignificance->GetN() ;\n",
    "    \n",
    "    TVectorD x(npoint, AASignificance->GetX());\n",
    "    TVectorD y(npoint);\n",
    "    TVectorD ex(npoint);\n",
    "    TVectorD ey(npoint);\n",
    "    \n",
    "    for (int i = 0; i<npoint; ++i)\n",
    "    {\n",
    "        y[i] = RAACentroid;   \n",
    "        ey[i] = y[i] * sqrt(1/pow( AASignificance->GetY()[i], 2) + 1/pow( refSignificance->GetY()[i], 2));        \n",
    "    }    \n",
    "    \n",
    "    TGraphErrors * gr = new TGraphErrors(x, y, ex, ey);\n",
    "    \n",
    "    return gr;\n",
    "}\n",
    "\n",
    "\n",
    "TGraphErrors *GraphShiftCut(TGraphErrors * gr_src, const double x_shift, const double x_min, const double x_max)\n",
    "{\n",
    "    assert(gr_src);\n",
    "    \n",
    "    \n",
    "    const int npoint = gr_src->GetN() ;\n",
    "    \n",
    "    TVectorD vx(npoint);\n",
    "    TVectorD vy(npoint);\n",
    "    TVectorD vex(npoint);\n",
    "    TVectorD vey(npoint);\n",
    "    \n",
    "    int nfilled = 0;\n",
    "    for (int i = 0; i<npoint; ++i)\n",
    "    {\n",
    "        const double & x  = gr_src->GetX()[i];\n",
    "        if (x<x_min or x>x_max) continue;\n",
    "        \n",
    "        vx[nfilled] = x + x_shift;\n",
    "        vy[nfilled] = gr_src->GetY()[i];\n",
    "        vex[nfilled] = gr_src->GetEX()[i];\n",
    "        vey[nfilled] = gr_src->GetEY()[i];\n",
    "        \n",
    "        ++nfilled;\n",
    "    }    \n",
    "    \n",
    "    TGraphErrors * gr = new TGraphErrors(nfilled, vx. GetMatrixArray (), vy. GetMatrixArray (), \n",
    "                                         vex.GetMatrixArray (), vey. GetMatrixArray ());\n",
    "    \n",
    "    return gr;\n",
    "}"
   ]
  },
  {
   "cell_type": "markdown",
   "metadata": {},
   "source": [
    "## Projections"
   ]
  },
  {
   "cell_type": "code",
   "execution_count": 26,
   "metadata": {},
   "outputs": [
    {
     "name": "stdout",
     "output_type": "stream",
     "text": [
      "(const TGraph *) 0x7f44742ae190\n"
     ]
    }
   ],
   "source": [
    "gProD0_Significance_pp_3year"
   ]
  },
  {
   "cell_type": "code",
   "execution_count": 27,
   "metadata": {},
   "outputs": [
    {
     "name": "stderr",
     "output_type": "stream",
     "text": [
      "Warning in <TFile::Append>: Replacing existing TH1: Graph (Potential memory leak).\n",
      "Warning in <TFile::Append>: Replacing existing TH1: Graph (Potential memory leak).\n",
      "Warning in <TFile::Append>: Replacing existing TH1: Graph (Potential memory leak).\n",
      "Warning in <TFile::Append>: Replacing existing TH1: Graph (Potential memory leak).\n",
      "Warning in <TFile::Append>: Replacing existing TH1: Graph (Potential memory leak).\n",
      "Warning in <TFile::Append>: Replacing existing TH1: Graph (Potential memory leak).\n",
      "Warning in <TFile::Append>: Replacing existing TH1: Graph (Potential memory leak).\n",
      "Warning in <TFile::Append>: Replacing existing TH1: Graph (Potential memory leak).\n",
      "Warning in <TFile::Append>: Replacing existing TH1: Graph (Potential memory leak).\n",
      "Warning in <TFile::Append>: Replacing existing TH1: Graph (Potential memory leak).\n",
      "Warning in <TFile::Append>: Replacing existing TH1: Graph (Potential memory leak).\n",
      "Warning in <TFile::Append>: Replacing existing TH1: Graph (Potential memory leak).\n",
      "Warning in <TFile::Append>: Replacing existing TH1: Graph (Potential memory leak).\n",
      "Warning in <TFile::Append>: Replacing existing TH1: Graph (Potential memory leak).\n",
      "Info in <TCanvas::Print>: png file fig_BUP2020/D0_BUP2020_AuAu_RAA_3yr.png has been created\n"
     ]
    },
    {
     "name": "stdout",
     "output_type": "stream",
     "text": [
      "Save TH1 hframe\n",
      "Save TGraph RAA_pi\n",
      "Save TGraph RAA_B\n",
      "Save TGraph RAA_D\n",
      "Save TGraph RAA_D0_B\n",
      "Save TGraph Graph\n",
      "Save TGraph Graph\n"
     ]
    },
    {
     "name": "stderr",
     "output_type": "stream",
     "text": [
      "Info in <TCanvas::SaveAs>: ROOT file fig_BUP2020/D0_BUP2020_AuAu_RAA_3yr.root has been created\n",
      "Info in <TCanvas::Print>: eps file fig_BUP2020/D0_BUP2020_AuAu_RAA_3yr.eps has been created\n",
      "Info in <TCanvas::Print>: SVG file fig_BUP2020/D0_BUP2020_AuAu_RAA_3yr.svg has been created\n"
     ]
    },
    {
     "data": {
      "image/png": "[encoded data removed]",
      "text/plain": [
       "<IPython.core.display.Image object>"
      ]
     },
     "metadata": {},
     "output_type": "display_data"
    },
    {
     "name": "stdout",
     "output_type": "stream",
     "text": [
      "removed ‘fig_BUP2020/D0_BUP2020_AuAu_RAA_3yr.svg’\n"
     ]
    },
    {
     "name": "stderr",
     "output_type": "stream",
     "text": [
      "Info in <TCanvas::SaveSource>: C++ Macro file: fig_BUP2020/D0_BUP2020_AuAu_RAA_3yr.C has been generated\n"
     ]
    }
   ],
   "source": [
    "{\n",
    "    TString s_suffix = \"_3yr\";\n",
    "\n",
    "    TGraphErrors * grProD0_RAA_3year \n",
    "        = GraphShiftCut(\n",
    "        Significance2RAA( gProD0_Significance_AuAu_0_10_3year, gProD0_Significance_pp_3year, RAA_D),\n",
    "            0., 0,100);\n",
    "    TGraphErrors * grNonProD0_RAA_3year \n",
    "        = GraphShiftCut(\n",
    "            Significance2RAA( gNonProD0_Significance_AuAu_0_10_3year, gNonProD0_Significance_pp_3year, RAA_D0_B),\n",
    "            0., 1.9,100);\n",
    "    \n",
    "    grProD0_RAA_3year->SetMarkerStyle(kFullCircle);\n",
    "    grNonProD0_RAA_3year->SetMarkerStyle(kFullSquare);\n",
    "    \n",
    "    \n",
    "    grProD0_RAA_3year->SetMarkerSize(2);\n",
    "    grNonProD0_RAA_3year->SetMarkerSize(2);\n",
    "    \n",
    "    grProD0_RAA_3year->SetLineWidth(4);\n",
    "    grNonProD0_RAA_3year->SetLineWidth(4);\n",
    "//     grProD0_RAA_3year->SetLineStyle(kDashed);\n",
    "//     grNonProD0_RAA_3year->SetLineStyle(kDashed);\n",
    "    \n",
    "    grProD0_RAA_3year->SetLineColorAlpha(kBlack, 1);\n",
    "    grNonProD0_RAA_3year->SetLineColorAlpha(kBlue+2, 1);\n",
    "    \n",
    "    grProD0_RAA_3year->SetMarkerColorAlpha(kBlack, 1);\n",
    "    grNonProD0_RAA_3year->SetMarkerColorAlpha(kBlue+1, 1);\n",
    "        \n",
    "    RAA_pi->SetLineColorAlpha(kGreen+2, 1);\n",
    "    RAA_B->SetLineColorAlpha(kBlue-4, 1);\n",
    "    RAA_D->SetLineColorAlpha(kBlack, 1);\n",
    "    RAA_D0_B->SetLineColorAlpha(kBlue+1, 1);\n",
    "    \n",
    "    \n",
    "    RAA_pi->SetLineStyle(kSolid );\n",
    "    RAA_B->SetLineStyle(kSolid );\n",
    "    RAA_D->SetLineStyle(kDashed);\n",
    "    RAA_D0_B->SetLineStyle(kDashed);\n",
    "    \n",
    "    TCanvas *c1 = new TCanvas(\"D0_BUP2020_AuAu_RAA\" + s_suffix,\n",
    "                  \"D0_BUP2020_AuAu_RAA\" + s_suffix, 1100, 800);\n",
    "    c1->Divide(1, 1);\n",
    "    int idx = 1;\n",
    "    TPad *p;\n",
    "\n",
    "    p = (TPad *) c1->cd(idx++);\n",
    "    c1->Update();\n",
    "    p->DrawFrame(0, 0, 11, 1.6)->SetTitle(\";#it{p}_{T} [GeV];#it{R}_{AA}\");\n",
    "    \n",
    "    RAA_pi->Draw();\n",
    "    RAA_B->Draw();\n",
    "    RAA_D->Draw();\n",
    "    RAA_D0_B->Draw();\n",
    "    \n",
    "    grProD0_RAA_3year->DrawClone(\"p\");\n",
    "    grNonProD0_RAA_3year->DrawClone(\"p\");\n",
    "    \n",
    "    TLegend *leg = new TLegend(0, .78, .85, .9);\n",
    "    leg->SetFillStyle(0);\n",
    "    leg->AddEntry(\"\", \"#it{#bf{sPHENIX}} Projection, 0-10% Au+Au, Year 1-3\", \"\");\n",
    "    leg->AddEntry(\"\", Form(\"%.1f pb^{-1} str. p+p, %.0fB rec. Au+Au\", pp_rec_3year/1e12,\n",
    "                           AuAu_rec_3year * refAuAuXSec/1e9 + 1 /* to be consisten with 142B */)\n",
    "                  , \"\");\n",
    "    leg->Draw();\n",
    "    \n",
    "    \n",
    "    leg = new TLegend(.65, .52, .9, .77);\n",
    "    leg->SetFillStyle(0);\n",
    "    leg->AddEntry(RAA_B, \"#it{B}-meson\", \"l\");\n",
    "    leg->AddEntry(grNonProD0_RAA_3year, \"#it{B}#rightarrow#it{D}^{0}\", \"lp\");\n",
    "    leg->AddEntry(grProD0_RAA_3year, \"Prompt #it{D}^{0}\", \"lp\");\n",
    "    leg->AddEntry(RAA_pi, \"#pi\", \"l\");\n",
    "    leg->Draw();\n",
    "\n",
    "    c1->Draw();\n",
    "    SaveCanvas(c1, \"fig_BUP2020/\" + TString(c1->GetName()), kTRUE);\n",
    "}"
   ]
  },
  {
   "cell_type": "code",
   "execution_count": 28,
   "metadata": {},
   "outputs": [
    {
     "name": "stdout",
     "output_type": "stream",
     "text": [
      "Save TH1 hframe\n",
      "Save TGraph Graph\n",
      "Save TGraph Graph\n",
      "Save TGraph Graph\n",
      "Save TGraph Graph\n"
     ]
    },
    {
     "name": "stderr",
     "output_type": "stream",
     "text": [
      "Info in <TCanvas::Print>: png file fig_BUP2020/D0_BUP2020OOArAr_RAA_5yr.png has been created\n",
      "Info in <TCanvas::SaveAs>: ROOT file fig_BUP2020/D0_BUP2020OOArAr_RAA_5yr.root has been created\n",
      "Info in <TCanvas::Print>: eps file fig_BUP2020/D0_BUP2020OOArAr_RAA_5yr.eps has been created\n",
      "Info in <TCanvas::Print>: SVG file fig_BUP2020/D0_BUP2020OOArAr_RAA_5yr.svg has been created\n"
     ]
    },
    {
     "data": {
      "image/png": "[encoded data removed]",
      "text/plain": [
       "<IPython.core.display.Image object>"
      ]
     },
     "metadata": {},
     "output_type": "display_data"
    },
    {
     "name": "stdout",
     "output_type": "stream",
     "text": [
      "removed ‘fig_BUP2020/D0_BUP2020OOArAr_RAA_5yr.svg’\n"
     ]
    },
    {
     "name": "stderr",
     "output_type": "stream",
     "text": [
      "Info in <TCanvas::SaveSource>: C++ Macro file: fig_BUP2020/D0_BUP2020OOArAr_RAA_5yr.C has been generated\n"
     ]
    }
   ],
   "source": [
    "{\n",
    "    TString s_suffix = \"_5yr\";\n",
    "\n",
    "    TGraphErrors * grProD0_RAA_OO_5year \n",
    "        = GraphShiftCut(\n",
    "            Significance2RAA( gProD0_Significance_OO_5year, gProD0_Significance_pp_5year, RAA_D),\n",
    "            0.2, 0,100);\n",
    "    TGraphErrors * grNonProD0_RAA_OO_5year \n",
    "        = GraphShiftCut(\n",
    "            Significance2RAA( gNonProD0_Significance_OO_5year, gNonProD0_Significance_pp_5year, RAA_D0_B),\n",
    "            0.2, 1.9,100);\n",
    "    \n",
    "\n",
    "    TGraphErrors * grProD0_RAA_ArAr_5year \n",
    "        = GraphShiftCut(Significance2RAA( gProD0_Significance_ArAr_5year, gProD0_Significance_pp_5year, RAA_D),\n",
    "            0., 0,100);\n",
    "    TGraphErrors * grNonProD0_RAA_ArAr_5year \n",
    "        = GraphShiftCut(\n",
    "            Significance2RAA( gNonProD0_Significance_ArAr_5year, gNonProD0_Significance_pp_5year, RAA_D0_B),\n",
    "            0., 1.9,100);\n",
    "    \n",
    "    grProD0_RAA_OO_5year->SetMarkerStyle(kOpenCircle);\n",
    "    grNonProD0_RAA_OO_5year->SetMarkerStyle(kOpenSquare);\n",
    "    grProD0_RAA_ArAr_5year->SetMarkerStyle(kFullCircle);\n",
    "    grNonProD0_RAA_ArAr_5year->SetMarkerStyle(kFullSquare);\n",
    "    \n",
    "    \n",
    "    grProD0_RAA_OO_5year->SetMarkerSize(2);\n",
    "    grNonProD0_RAA_OO_5year->SetMarkerSize(2);\n",
    "    grProD0_RAA_ArAr_5year->SetMarkerSize(2);\n",
    "    grNonProD0_RAA_ArAr_5year->SetMarkerSize(2);\n",
    "    \n",
    "    grProD0_RAA_OO_5year->SetLineWidth(4);\n",
    "    grNonProD0_RAA_OO_5year->SetLineWidth(4);\n",
    "    grProD0_RAA_ArAr_5year->SetLineWidth(4);\n",
    "    grNonProD0_RAA_ArAr_5year->SetLineWidth(4);\n",
    "    \n",
    "    grProD0_RAA_OO_5year->SetLineColorAlpha(kBlack, 1);\n",
    "    grNonProD0_RAA_OO_5year->SetLineColorAlpha(kBlue+2, 1);\n",
    "    grProD0_RAA_ArAr_5year->SetLineColorAlpha(kBlack, 1);\n",
    "    grNonProD0_RAA_ArAr_5year->SetLineColorAlpha(kBlue+2, 1);\n",
    "    \n",
    "    grProD0_RAA_OO_5year->SetMarkerColorAlpha(kBlack, 1);\n",
    "    grNonProD0_RAA_OO_5year->SetMarkerColorAlpha(kBlue+2, 1);\n",
    "    grProD0_RAA_ArAr_5year->SetMarkerColorAlpha(kBlack, 1);\n",
    "    grNonProD0_RAA_ArAr_5year->SetMarkerColorAlpha(kBlue+2, 1);\n",
    "        \n",
    "    TCanvas *c1 = new TCanvas(\"D0_BUP2020OOArAr_RAA\" + s_suffix,\n",
    "                  \"D0_BUP2020OOArArO_RAA\" + s_suffix, 1100, 800);\n",
    "    c1->Divide(1, 1);\n",
    "    int idx = 1;\n",
    "    TPad *p;\n",
    "\n",
    "    p = (TPad *) c1->cd(idx++);\n",
    "    c1->Update();\n",
    "    p->DrawFrame(0, 0, 11, 1.2)->SetTitle(\";#it{p}_{T} [GeV];#it{R}_{AA}\");\n",
    "    \n",
    "    grProD0_RAA_OO_5year->DrawClone(\"p\");\n",
    "    grNonProD0_RAA_OO_5year->DrawClone(\"p\");\n",
    "    \n",
    "    grProD0_RAA_ArAr_5year->DrawClone(\"p\");\n",
    "    grNonProD0_RAA_ArAr_5year->DrawClone(\"p\");\n",
    "    \n",
    "    TLegend *leg = new TLegend(.37, .7, .85, .9);\n",
    "    leg->SetFillStyle(0);\n",
    "    leg->AddEntry(\"\", \"#it{#bf{sPHENIX}} Projection, Year 1-5\", \"\");\n",
    "    leg->AddEntry(\"\", Form(\"%.0f nb^{-1} str. O+O\", OO_rec_5year/1e9), \"\");\n",
    "    leg->AddEntry(\"\", Form(\"%.0f nb^{-1} str. Ar+Ar\", ArAr_rec_5year/1e9), \"\");\n",
    "    leg->AddEntry(\"\", Form(\"%.0f pb^{-1} str. p+p\", pp_rec_5year/1e12), \"\");\n",
    "    leg->Draw();\n",
    "    \n",
    "    leg = new TLegend(.18, .17, .55, .37, \"O+O\");\n",
    "    leg->SetFillStyle(0);\n",
    "    leg->AddEntry(grProD0_RAA_OO_5year, \" \", \"p\");\n",
    "    leg->AddEntry(grNonProD0_RAA_OO_5year, \" \", \"p\");\n",
    "    leg->Draw();\n",
    "    \n",
    "    leg = new TLegend(.28, .17, .55, .37, \"Ar+Ar\");\n",
    "    leg->SetFillStyle(0);\n",
    "    leg->AddEntry(grProD0_RAA_ArAr_5year, \"Prompt #it{D}^{0}\", \"p\");\n",
    "    leg->AddEntry(grNonProD0_RAA_ArAr_5year, \"#it{B}#rightarrow#it{D}^{0}\", \"p\");\n",
    "    leg->Draw();\n",
    "\n",
    "    c1->Draw();\n",
    "    SaveCanvas(c1, \"fig_BUP2020/\" + TString(c1->GetName()), kTRUE);\n",
    "}"
   ]
  },
  {
   "cell_type": "markdown",
   "metadata": {},
   "source": [
    "### RAA flatted centroid"
   ]
  },
  {
   "cell_type": "code",
   "execution_count": 29,
   "metadata": {},
   "outputs": [
    {
     "name": "stdout",
     "output_type": "stream",
     "text": [
      "Save TH1 hframe\n",
      "Save TGraph Graph\n",
      "Save TGraph Graph\n",
      "Save TGraph Graph\n",
      "Save TGraph Graph\n"
     ]
    },
    {
     "name": "stderr",
     "output_type": "stream",
     "text": [
      "Info in <TCanvas::Print>: png file fig_BUP2020/D0_BUP2020OOArAr_RAA_flat_5yr.png has been created\n",
      "Info in <TCanvas::SaveAs>: ROOT file fig_BUP2020/D0_BUP2020OOArAr_RAA_flat_5yr.root has been created\n",
      "Info in <TCanvas::Print>: eps file fig_BUP2020/D0_BUP2020OOArAr_RAA_flat_5yr.eps has been created\n",
      "Info in <TCanvas::Print>: SVG file fig_BUP2020/D0_BUP2020OOArAr_RAA_flat_5yr.svg has been created\n"
     ]
    },
    {
     "data": {
      "image/png": "[encoded data removed]",
      "text/plain": [
       "<IPython.core.display.Image object>"
      ]
     },
     "metadata": {},
     "output_type": "display_data"
    },
    {
     "name": "stdout",
     "output_type": "stream",
     "text": [
      "removed ‘fig_BUP2020/D0_BUP2020OOArAr_RAA_flat_5yr.svg’\n"
     ]
    },
    {
     "name": "stderr",
     "output_type": "stream",
     "text": [
      "Info in <TCanvas::SaveSource>: C++ Macro file: fig_BUP2020/D0_BUP2020OOArAr_RAA_flat_5yr.C has been generated\n"
     ]
    }
   ],
   "source": [
    "{\n",
    "    TString s_suffix = \"_5yr\";\n",
    "\n",
    "    TGraphErrors * grProD0_RAA_OO_5year \n",
    "        = GraphShiftCut(\n",
    "            Significance2RAA( gProD0_Significance_OO_5year, gProD0_Significance_pp_5year, .7),\n",
    "            0.2, 0,100);\n",
    "    TGraphErrors * grNonProD0_RAA_OO_5year \n",
    "        = GraphShiftCut(\n",
    "            Significance2RAA( gNonProD0_Significance_OO_5year, gNonProD0_Significance_pp_5year, 1),\n",
    "            0.2, 1.9,100);\n",
    "    \n",
    "\n",
    "    TGraphErrors * grProD0_RAA_ArAr_5year \n",
    "        = GraphShiftCut(Significance2RAA( gProD0_Significance_ArAr_5year, gProD0_Significance_pp_5year, .6),\n",
    "            0., 0,100);\n",
    "    TGraphErrors * grNonProD0_RAA_ArAr_5year \n",
    "        = GraphShiftCut(\n",
    "            Significance2RAA( gNonProD0_Significance_ArAr_5year, gNonProD0_Significance_pp_5year, .9),\n",
    "            0., 1.9,100);\n",
    "    \n",
    "    grProD0_RAA_OO_5year->SetMarkerStyle(kOpenCircle);\n",
    "    grNonProD0_RAA_OO_5year->SetMarkerStyle(kOpenSquare);\n",
    "    grProD0_RAA_ArAr_5year->SetMarkerStyle(kFullCircle);\n",
    "    grNonProD0_RAA_ArAr_5year->SetMarkerStyle(kFullSquare);\n",
    "    \n",
    "    \n",
    "    grProD0_RAA_OO_5year->SetMarkerSize(2);\n",
    "    grNonProD0_RAA_OO_5year->SetMarkerSize(2);\n",
    "    grProD0_RAA_ArAr_5year->SetMarkerSize(2);\n",
    "    grNonProD0_RAA_ArAr_5year->SetMarkerSize(2);\n",
    "    \n",
    "    grProD0_RAA_OO_5year->SetLineWidth(4);\n",
    "    grNonProD0_RAA_OO_5year->SetLineWidth(4);\n",
    "    grProD0_RAA_ArAr_5year->SetLineWidth(4);\n",
    "    grNonProD0_RAA_ArAr_5year->SetLineWidth(4);\n",
    "    \n",
    "    grProD0_RAA_OO_5year->SetLineColorAlpha(kBlack, 1);\n",
    "    grNonProD0_RAA_OO_5year->SetLineColorAlpha(kBlue+2, 1);\n",
    "    grProD0_RAA_ArAr_5year->SetLineColorAlpha(kBlack, 1);\n",
    "    grNonProD0_RAA_ArAr_5year->SetLineColorAlpha(kBlue+2, 1);\n",
    "    \n",
    "    grProD0_RAA_OO_5year->SetMarkerColorAlpha(kBlack, 1);\n",
    "    grNonProD0_RAA_OO_5year->SetMarkerColorAlpha(kBlue+2, 1);\n",
    "    grProD0_RAA_ArAr_5year->SetMarkerColorAlpha(kBlack, 1);\n",
    "    grNonProD0_RAA_ArAr_5year->SetMarkerColorAlpha(kBlue+2, 1);\n",
    "        \n",
    "    TCanvas *c1 = new TCanvas(\"D0_BUP2020OOArAr_RAA_flat\" + s_suffix,\n",
    "                  \"D0_BUP2020OOArArO_RAA_flat\" + s_suffix, 1100, 800);\n",
    "    c1->Divide(1, 1);\n",
    "    int idx = 1;\n",
    "    TPad *p;\n",
    "\n",
    "    p = (TPad *) c1->cd(idx++);\n",
    "    c1->Update();\n",
    "    p->DrawFrame(0, 0, 11, 1.2)->SetTitle(\";#it{p}_{T} [GeV];#it{R}_{AA}\");\n",
    "    \n",
    "    grProD0_RAA_OO_5year->DrawClone(\"p\");\n",
    "    grNonProD0_RAA_OO_5year->DrawClone(\"p\");\n",
    "    \n",
    "    grProD0_RAA_ArAr_5year->DrawClone(\"p\");\n",
    "    grNonProD0_RAA_ArAr_5year->DrawClone(\"p\");\n",
    "    \n",
    "    TLegend *leg = new TLegend(.1, .2, .55, .5);\n",
    "    leg->SetFillStyle(0);\n",
    "    leg->AddEntry(\"\", \"#it{#bf{sPHENIX}} Projection, Year 1-5\", \"\");\n",
    "    leg->AddEntry(\"\", Form(\"%.0f nb^{-1} str. O+O\", OO_rec_5year/1e9), \"\");\n",
    "    leg->AddEntry(\"\", Form(\"%.0f nb^{-1} str. Ar+Ar\", ArAr_rec_5year/1e9), \"\");\n",
    "    leg->AddEntry(\"\", Form(\"%.0f pb^{-1} str. p+p\", pp_rec_5year/1e12), \"\");\n",
    "    leg->Draw();\n",
    "    \n",
    "    leg = new TLegend(.58, .2, .95, .425,\"O+O\");\n",
    "    leg->SetFillStyle(0);\n",
    "    leg->AddEntry(grProD0_RAA_OO_5year, \" \", \"p\");\n",
    "    leg->AddEntry(grNonProD0_RAA_OO_5year, \" \", \"p\");\n",
    "    leg->Draw();\n",
    "    \n",
    "    leg = new TLegend(.68, .2, .95, .425,\"Ar+Ar\");\n",
    "    leg->SetFillStyle(0);\n",
    "    leg->AddEntry(grProD0_RAA_ArAr_5year, \"Prompt #it{D}^{0}\", \"p\");\n",
    "    leg->AddEntry(grNonProD0_RAA_ArAr_5year, \"#it{B}#rightarrow#it{D}^{0}\", \"p\");\n",
    "    leg->Draw();\n",
    "\n",
    "    c1->Draw();\n",
    "    SaveCanvas(c1, \"fig_BUP2020/\" + TString(c1->GetName()), kTRUE);\n",
    "}"
   ]
  },
  {
   "cell_type": "markdown",
   "metadata": {},
   "source": [
    "# v2 projection"
   ]
  },
  {
   "cell_type": "markdown",
   "metadata": {},
   "source": [
    "## Utilities\n",
    "\n",
    "v2 formula is Eq (3) of sPH-HF-2017-002"
   ]
  },
  {
   "cell_type": "code",
   "execution_count": 30,
   "metadata": {},
   "outputs": [],
   "source": [
    "%%cpp -d\n",
    "\n",
    "Double_t v2_err(Double_t sig, Double_t v2, Double_t Res)\n",
    "{\n",
    "  const Double_t Pi = 3.1415927;\n",
    "  return Pi/4 / sig * sqrt(1 - 16 * v2 * v2 / Pi / Pi) / Res;  //Eq (3) of sPH-HF-2017-002\n",
    "}\n",
    "\n",
    "TGraphErrors *Significance2v2(const TGraph *AASignificance, double v2_centroid, Double_t Res, const int n_rebin=1)\n",
    "{\n",
    "    assert(AASignificance);\n",
    "    \n",
    "    \n",
    "    const int npoint = AASignificance->GetN() ;\n",
    "    assert(npoint%n_rebin == 0);\n",
    "    \n",
    "    TVectorD significance(npoint/n_rebin);\n",
    "    TVectorD x_center(npoint/n_rebin);\n",
    "    \n",
    "    \n",
    "    for (int i = 0; i<npoint/n_rebin; ++i)\n",
    "    {\n",
    "        significance[i] = 0;\n",
    "        x_center[i] = 0;\n",
    "        for (int j = 0; j<n_rebin; ++j)\n",
    "        {\n",
    "            \n",
    "            significance[i] += pow(AASignificance->GetY()[i*n_rebin + j],2);\n",
    "            x_center[i] += AASignificance->GetX()[i*n_rebin + j];\n",
    "                \n",
    "        }\n",
    "    \n",
    "        significance[i] = sqrt(significance[i]);\n",
    "        x_center[i] /= n_rebin;\n",
    "    }\n",
    "    \n",
    "    \n",
    "    TVectorD y(npoint/n_rebin);\n",
    "    TVectorD ex(npoint/n_rebin);\n",
    "    TVectorD ey(npoint/n_rebin);\n",
    "    \n",
    "    for (int i = 0; i<npoint/n_rebin; ++i)\n",
    "    {\n",
    "        y[i] = v2_centroid;   \n",
    "        ey[i] = v2_err (significance[i], y[i], Res);        \n",
    "    }    \n",
    "    \n",
    "    TGraphErrors * gr = new TGraphErrors(x_center, y, ex, ey);\n",
    "    \n",
    "    return gr;\n",
    "}\n"
   ]
  },
  {
   "cell_type": "markdown",
   "metadata": {},
   "source": [
    "## Projections"
   ]
  },
  {
   "cell_type": "code",
   "execution_count": 31,
   "metadata": {},
   "outputs": [
    {
     "name": "stdout",
     "output_type": "stream",
     "text": [
      "Save TH1 hframe\n",
      "Save TGraph v2_B\n",
      "Save TGraph v2_D\n",
      "Save TGraph Graph\n",
      "Save TGraph Graph\n"
     ]
    },
    {
     "name": "stderr",
     "output_type": "stream",
     "text": [
      "Info in <TCanvas::Print>: png file fig_BUP2020/D0_BUP2020_AuAu_v2_3yr.png has been created\n",
      "Info in <TCanvas::SaveAs>: ROOT file fig_BUP2020/D0_BUP2020_AuAu_v2_3yr.root has been created\n",
      "Info in <TCanvas::Print>: eps file fig_BUP2020/D0_BUP2020_AuAu_v2_3yr.eps has been created\n",
      "Info in <TCanvas::Print>: SVG file fig_BUP2020/D0_BUP2020_AuAu_v2_3yr.svg has been created\n"
     ]
    },
    {
     "name": "stdout",
     "output_type": "stream",
     "text": [
      "removed ‘fig_BUP2020/D0_BUP2020_AuAu_v2_3yr.svg’\n"
     ]
    },
    {
     "data": {
      "image/png": "[encoded data removed]",
      "text/plain": [
       "<IPython.core.display.Image object>"
      ]
     },
     "metadata": {},
     "output_type": "display_data"
    },
    {
     "name": "stderr",
     "output_type": "stream",
     "text": [
      "Info in <TCanvas::SaveSource>: C++ Macro file: fig_BUP2020/D0_BUP2020_AuAu_v2_3yr.C has been generated\n"
     ]
    }
   ],
   "source": [
    "{\n",
    "    TString s_suffix = \"_3yr\";\n",
    "\n",
    "    TGraphErrors * grProD0_v2_AuAu_3year \n",
    "        = GraphShiftCut(\n",
    "            Significance2v2( gProD0_Significance_AuAu_0_80_3year, 0.025, Psi2_resolution, 1),\n",
    "            0, 0,100);\n",
    "    TGraphErrors * grNonProD0_v2_AuAu_3year \n",
    "        = GraphShiftCut(\n",
    "            Significance2v2( gNonProD0_Significance_AuAu_0_80_3year, 0, Psi2_resolution, 1),\n",
    "            0, 1.9,100);    \n",
    "\n",
    "    \n",
    "    grProD0_v2_AuAu_3year->SetMarkerStyle(kFullCircle);\n",
    "    grNonProD0_v2_AuAu_3year->SetMarkerStyle(kFullSquare);\n",
    "    \n",
    "    grProD0_v2_AuAu_3year->SetMarkerSize(2);\n",
    "    grNonProD0_v2_AuAu_3year->SetMarkerSize(2);\n",
    "    \n",
    "    grProD0_v2_AuAu_3year->SetLineWidth(4);\n",
    "    grNonProD0_v2_AuAu_3year->SetLineWidth(4);\n",
    "//     grProD0_v2_AuAu_3year->SetLineStyle(kDashed);\n",
    "//     grNonProD0_v2_AuAu_3year->SetLineStyle(kDashed);\n",
    "    \n",
    "    grProD0_v2_AuAu_3year->SetLineColorAlpha(kBlack, 1);\n",
    "    grNonProD0_v2_AuAu_3year->SetLineColorAlpha(kBlue+1, 1);\n",
    "    \n",
    "    grProD0_v2_AuAu_3year->SetMarkerColorAlpha(kBlack, 1);\n",
    "    grNonProD0_v2_AuAu_3year->SetMarkerColorAlpha(kBlue+1, 1);\n",
    "        \n",
    "//     RAA_pi->SetLineColorAlpha(kGreen+2, 1);\n",
    "    v2_B->SetLineColorAlpha(kBlue-4, 1);\n",
    "    v2_D->SetLineColorAlpha(kBlack, 1);\n",
    "    v2_D_B->SetLineColorAlpha(kBlue+1, 1);\n",
    "    \n",
    "    \n",
    "//     RAA_pi->SetLineStyle(kSolid );\n",
    "    v2_B->SetLineStyle(kSolid );\n",
    "    v2_D->SetLineStyle(kDashed);\n",
    "    v2_D_B->SetLineStyle(kDashed);\n",
    "        \n",
    "    TCanvas *c1 = new TCanvas(\"D0_BUP2020_AuAu_v2\" + s_suffix,\n",
    "                  \"D0_BUP2020_AuAu_v2\" + s_suffix, 1100, 800);\n",
    "    c1->Divide(1, 1);\n",
    "    int idx = 1;\n",
    "    TPad *p;\n",
    "\n",
    "    p = (TPad *) c1->cd(idx++);\n",
    "    c1->Update();\n",
    "    p->DrawFrame(0, -.1, 11, 0.25)->SetTitle(\";#it{p}_{T} [GeV];v_{2}\");\n",
    "    (new TLine(0, -.0, 11, .0))->Draw();\n",
    "    \n",
    "    v2_B->DrawClone( );\n",
    "    v2_D->DrawClone();\n",
    "//     v2_D_B->DrawClone();\n",
    "    \n",
    "    grProD0_v2_AuAu_3year->DrawClone(\"p\");\n",
    "    grNonProD0_v2_AuAu_3year->DrawClone(\"p\");\n",
    "    \n",
    "    TLegend *leg = new TLegend(0, .78, .85, .9);\n",
    "    leg->SetFillStyle(0);\n",
    "    leg->AddEntry(\"\", \"#it{#bf{sPHENIX}} Projection, 0-80% Au+Au, Year 1-3\", \"\");\n",
    "    leg->AddEntry(\"\", Form(\"%.0fB rec. Au+Au, Res(#Psi_{2})=%.1f\",\n",
    "                           AuAu_rec_3year * refAuAuXSec/1e9 + 1 /* to be consisten with 142B */\n",
    "                 , Psi2_resolution)\n",
    "                  , \"\");\n",
    "    leg->Draw();\n",
    "    \n",
    "    \n",
    "    leg = new TLegend(.65, .6, .9, .77);\n",
    "    leg->SetFillStyle(0);\n",
    "    leg->AddEntry(grNonProD0_v2_AuAu_3year, \"#it{B}#rightarrow#it{D}^{0}\", \"lp\");\n",
    "    leg->AddEntry(grProD0_v2_AuAu_3year, \"Prompt #it{D}^{0}\", \"lp\");\n",
    "//     leg->AddEntry(v2_B, \"#it{B}-meson\", \"l\");\n",
    "//     leg->AddEntry(v2_D, \"#it{D}-meson\", \"l\");\n",
    "//     leg->AddEntry(RAA_pi, \"#pi\", \"l\");\n",
    "    leg->Draw();\n",
    "    \n",
    "    leg = new TLegend(.2, .2, .7, .3);\n",
    "    leg->SetFillStyle(0);\n",
    "    leg->AddEntry(v2_D, \"#it{D}-meson (fit to STAR PRL#bf{118})\", \"l\");\n",
    "    leg->AddEntry(v2_B, \"#it{B}-meson (m_{T} scaling)\", \"l\");\n",
    "//     leg->AddEntry(RAA_pi, \"#pi\", \"l\");\n",
    "    leg->Draw();\n",
    "\n",
    "    c1->Draw();\n",
    "    SaveCanvas(c1, \"fig_BUP2020/\" + TString(c1->GetName()), kTRUE);\n",
    "}"
   ]
  },
  {
   "cell_type": "code",
   "execution_count": 32,
   "metadata": {},
   "outputs": [
    {
     "name": "stderr",
     "output_type": "stream",
     "text": [
      "Info in <TCanvas::Print>: png file fig_BUP2020/D0_BUP2020OOArAr_v2_5yr.png has been created\n"
     ]
    },
    {
     "name": "stdout",
     "output_type": "stream",
     "text": [
      "Save TH1 hframe\n",
      "Save TGraph Graph\n",
      "Save TGraph Graph\n",
      "Save TGraph Graph\n",
      "Save TGraph Graph\n"
     ]
    },
    {
     "name": "stderr",
     "output_type": "stream",
     "text": [
      "Info in <TCanvas::SaveAs>: ROOT file fig_BUP2020/D0_BUP2020OOArAr_v2_5yr.root has been created\n",
      "Info in <TCanvas::Print>: eps file fig_BUP2020/D0_BUP2020OOArAr_v2_5yr.eps has been created\n",
      "Info in <TCanvas::Print>: SVG file fig_BUP2020/D0_BUP2020OOArAr_v2_5yr.svg has been created\n"
     ]
    },
    {
     "data": {
      "image/png": "[encoded data removed]",
      "text/plain": [
       "<IPython.core.display.Image object>"
      ]
     },
     "metadata": {},
     "output_type": "display_data"
    },
    {
     "name": "stdout",
     "output_type": "stream",
     "text": [
      "removed ‘fig_BUP2020/D0_BUP2020OOArAr_v2_5yr.svg’\n"
     ]
    },
    {
     "name": "stderr",
     "output_type": "stream",
     "text": [
      "Info in <TCanvas::SaveSource>: C++ Macro file: fig_BUP2020/D0_BUP2020OOArAr_v2_5yr.C has been generated\n"
     ]
    }
   ],
   "source": [
    "{\n",
    "    TString s_suffix = \"_5yr\";\n",
    "\n",
    "    TGraphErrors * grProD0_v2_OO_5year \n",
    "        = GraphShiftCut(\n",
    "            Significance2v2( gProD0_Significance_OO_5year, 0.075, Psi2_resolution, 2),\n",
    "            0.2, 0,100);\n",
    "    TGraphErrors * grNonProD0_v2_OO_5year \n",
    "        = GraphShiftCut(\n",
    "            Significance2v2( gNonProD0_Significance_OO_5year, 0, Psi2_resolution, 5),\n",
    "            -.2, 1.9,100);    \n",
    "\n",
    "    TGraphErrors * grProD0_v2_ArAr_5year \n",
    "        = GraphShiftCut(Significance2v2( gProD0_Significance_ArAr_5year, 0.075, Psi2_resolution, 2),\n",
    "            0., 0,100);\n",
    "    TGraphErrors * grNonProD0_v2_ArAr_5year \n",
    "        = GraphShiftCut(\n",
    "            Significance2v2( gNonProD0_Significance_ArAr_5year, 0, Psi2_resolution, 5),\n",
    "            -.4, 1.9,100);\n",
    "    \n",
    "    grProD0_v2_OO_5year->SetMarkerStyle(kOpenCircle);\n",
    "    grNonProD0_v2_OO_5year->SetMarkerStyle(kOpenSquare);\n",
    "    grProD0_v2_ArAr_5year->SetMarkerStyle(kFullCircle);\n",
    "    grNonProD0_v2_ArAr_5year->SetMarkerStyle(kFullSquare);\n",
    "    \n",
    "    grProD0_v2_OO_5year->SetMarkerSize(2);\n",
    "    grNonProD0_v2_OO_5year->SetMarkerSize(2);\n",
    "    grProD0_v2_ArAr_5year->SetMarkerSize(2);\n",
    "    grNonProD0_v2_ArAr_5year->SetMarkerSize(2);\n",
    "        \n",
    "    grProD0_v2_OO_5year->SetLineWidth(4);\n",
    "    grNonProD0_v2_OO_5year->SetLineWidth(4);\n",
    "    grProD0_v2_ArAr_5year->SetLineWidth(4);\n",
    "    grNonProD0_v2_ArAr_5year->SetLineWidth(4);\n",
    "    \n",
    "    grProD0_v2_OO_5year->SetLineColorAlpha(kBlack, 1);\n",
    "    grNonProD0_v2_OO_5year->SetLineColorAlpha(kBlue+2, 1);\n",
    "    grProD0_v2_ArAr_5year->SetLineColorAlpha(kBlack, 1);\n",
    "    grNonProD0_v2_ArAr_5year->SetLineColorAlpha(kBlue+2, 1);\n",
    "    \n",
    "    grProD0_v2_OO_5year->SetMarkerColorAlpha(kBlack, 1);\n",
    "    grNonProD0_v2_OO_5year->SetMarkerColorAlpha(kBlue+2, 1);\n",
    "    grProD0_v2_ArAr_5year->SetMarkerColorAlpha(kBlack, 1);\n",
    "    grNonProD0_v2_ArAr_5year->SetMarkerColorAlpha(kBlue+2, 1);\n",
    "        \n",
    "    TCanvas *c1 = new TCanvas(\"D0_BUP2020OOArAr_v2\" + s_suffix,\n",
    "                  \"D0_BUP2020OOArArO_v2\" + s_suffix, 1100, 800);\n",
    "    c1->Divide(1, 1);\n",
    "    int idx = 1;\n",
    "    TPad *p;\n",
    "\n",
    "    p = (TPad *) c1->cd(idx++);\n",
    "    c1->Update();\n",
    "    p->DrawFrame(0, -.1, 11, 0.25)->SetTitle(\";#it{p}_{T} [GeV];v_{2}\");\n",
    "    \n",
    "    grProD0_v2_OO_5year->DrawClone(\"p\");\n",
    "    grNonProD0_v2_OO_5year->DrawClone(\"p\");\n",
    "    \n",
    "    grProD0_v2_ArAr_5year->DrawClone(\"p\");\n",
    "    grNonProD0_v2_ArAr_5year->DrawClone(\"p\");\n",
    "    \n",
    "    TLegend *leg = new TLegend(.1, .7, .55, .9);\n",
    "    leg->SetFillStyle(0);\n",
    "    leg->AddEntry(\"\", \"#it{#bf{sPHENIX}} Projection\", \"\");\n",
    "    leg->AddEntry(\"\", Form(\"Year 1-5, Res(#Psi_{2})=%.1f\", Psi2_resolution), \"\");\n",
    "    leg->AddEntry(\"\", Form(\"%.0f nb^{-1} str. O+O\", OO_rec_5year/1e9), \"\");\n",
    "    leg->AddEntry(\"\", Form(\"%.0f nb^{-1} str. Ar+Ar\", ArAr_rec_5year/1e9), \"\");\n",
    "    leg->Draw();\n",
    "    \n",
    "    leg = new TLegend(.58, .7, .95, .9, \"O+O\");\n",
    "    leg->SetFillStyle(0);\n",
    "    leg->AddEntry(grProD0_v2_OO_5year, \" \", \"p\");\n",
    "    leg->AddEntry(grNonProD0_v2_OO_5year, \" \", \"p\");\n",
    "    leg->Draw();\n",
    "    \n",
    "    leg = new TLegend(.68, .7, .95, .9, \"Ar+Ar\");\n",
    "    leg->SetFillStyle(0);\n",
    "    leg->AddEntry(grProD0_v2_ArAr_5year, \"Prompt #it{D}^{0}\", \"p\");\n",
    "    leg->AddEntry(grNonProD0_v2_ArAr_5year, \"#it{B}#rightarrow#it{D}^{0}\", \"p\");\n",
    "    leg->Draw();\n",
    "\n",
    "    c1->Draw();\n",
    "    SaveCanvas(c1, \"fig_BUP2020/\" + TString(c1->GetName()), kTRUE);\n",
    "}"
   ]
  },
  {
   "cell_type": "markdown",
   "metadata": {},
   "source": []
  },
  {
   "cell_type": "markdown",
   "metadata": {},
   "source": [
    "# AN projection"
   ]
  },
  {
   "cell_type": "markdown",
   "metadata": {},
   "source": [
    "## Utilities\n"
   ]
  },
  {
   "cell_type": "code",
   "execution_count": 33,
   "metadata": {},
   "outputs": [],
   "source": [
    "%%cpp -d\n",
    "\n",
    "\n",
    "TGraphErrors *Significance2AN(\n",
    "    const TGraph *ppSignificance,\n",
    "    double AN_centroid,\n",
    "    Double_t Res, \n",
    "    const int n_rebin=1)\n",
    "{\n",
    "    assert(ppSignificance);    \n",
    "    \n",
    "    const int npoint = ppSignificance->GetN() ;\n",
    "    assert(npoint%n_rebin == 0);\n",
    "    \n",
    "    TVectorD significance(npoint/n_rebin);\n",
    "    TVectorD x_center(npoint/n_rebin);\n",
    "    \n",
    "    for (int i = 0; i<npoint/n_rebin; ++i)\n",
    "    {\n",
    "        significance[i] = 0;\n",
    "        x_center[i] = 0;\n",
    "        for (int j = 0; j<n_rebin; ++j)\n",
    "        {\n",
    "            \n",
    "            significance[i] += pow(ppSignificance->GetY()[i*n_rebin + j],2);\n",
    "            x_center[i] += ppSignificance->GetX()[i*n_rebin + j];\n",
    "                \n",
    "        }\n",
    "    \n",
    "        significance[i] = sqrt(significance[i]);\n",
    "        x_center[i] /= n_rebin;\n",
    "    }\n",
    "    \n",
    "    TVectorD y(npoint/n_rebin);\n",
    "    TVectorD ex(npoint/n_rebin);\n",
    "    TVectorD ey(npoint/n_rebin);\n",
    "    \n",
    "    for (int i = 0; i<npoint/n_rebin; ++i)\n",
    "    {\n",
    "        y[i] = AN_centroid;   \n",
    "        ey[i] = 1/sqrt(2)/significance[i]/Res; // AN error in max likelihood estimator        \n",
    "    }    \n",
    "    \n",
    "    TGraphErrors * gr = new TGraphErrors(x_center, y, ex, ey);\n",
    "    \n",
    "    return gr;\n",
    "}"
   ]
  },
  {
   "cell_type": "markdown",
   "metadata": {},
   "source": [
    "## Model inputs"
   ]
  },
  {
   "cell_type": "code",
   "execution_count": 34,
   "metadata": {},
   "outputs": [],
   "source": [
    "%%cpp -d\n",
    "\n",
    "pair<TGraph *, TGraph *> getD0AN()\n",
    "{\n",
    "  //  DOI:  10.1103/PhysRevD.78.114013\n",
    "  //  Cite as:  arXiv:0810.3333 [hep-ph]\n",
    "  // Fig 6 D0\n",
    "\n",
    "  const vector<double> pT_07_07 = {\n",
    "\n",
    "      1.02731939860653e+000,\n",
    "      1.06765676567657e+000,\n",
    "      1.10726072607261e+000,\n",
    "      1.14759809314265e+000,\n",
    "      1.18793546021269e+000,\n",
    "      1.22753942060873e+000,\n",
    "      1.26787678767877e+000,\n",
    "      1.30821415474881e+000,\n",
    "      1.34781811514485e+000,\n",
    "      1.38815548221489e+000,\n",
    "      1.42775944261093e+000,\n",
    "      1.46809680968097e+000,\n",
    "      1.50843417675101e+000,\n",
    "      1.54803813714705e+000,\n",
    "      1.58837550421709e+000,\n",
    "      1.62871287128713e+000,\n",
    "      1.66831683168317e+000,\n",
    "      1.70865419875321e+000,\n",
    "      1.74899156582325e+000,\n",
    "      1.78859552621929e+000,\n",
    "      1.82893289328933e+000,\n",
    "      1.86853685368537e+000,\n",
    "      1.90887422075541e+000,\n",
    "      1.94921158782545e+000,\n",
    "      1.98881554822149e+000,\n",
    "      2.02915291529153e+000,\n",
    "      2.06949028236157e+000,\n",
    "      2.10909424275761e+000,\n",
    "      2.14943160982765e+000,\n",
    "      2.18903557022369e+000,\n",
    "      2.22937293729373e+000,\n",
    "      2.26971030436377e+000,\n",
    "      2.30931426475981e+000,\n",
    "      2.34965163182985e+000,\n",
    "      2.38998899889989e+000,\n",
    "      2.42959295929593e+000,\n",
    "      2.46993032636597e+000,\n",
    "      2.51026769343601e+000,\n",
    "      2.54987165383205e+000,\n",
    "      2.59020902090209e+000,\n",
    "      2.62981298129813e+000,\n",
    "      2.67015034836817e+000,\n",
    "      2.71048771543821e+000,\n",
    "      2.75009167583425e+000,\n",
    "      2.79042904290429e+000,\n",
    "      2.83076640997433e+000,\n",
    "      2.87037037037037e+000,\n",
    "      2.91070773744041e+000,\n",
    "      2.95031169783645e+000,\n",
    "      2.99064906490649e+000,\n",
    "      3.03098643197653e+000,\n",
    "      3.07059039237257e+000,\n",
    "      3.11092775944261e+000,\n",
    "      3.15126512651265e+000,\n",
    "      3.19086908690869e+000,\n",
    "      3.23120645397873e+000,\n",
    "      3.27081041437477e+000,\n",
    "      3.31114778144481e+000,\n",
    "      3.35148514851485e+000,\n",
    "      3.39108910891089e+000,\n",
    "      3.43142647598093e+000,\n",
    "      3.47176384305097e+000,\n",
    "      3.51136780344701e+000,\n",
    "      3.55170517051705e+000,\n",
    "      3.59204253758709e+000,\n",
    "      3.63164649798313e+000,\n",
    "      3.67198386505317e+000,\n",
    "      3.71158782544921e+000,\n",
    "      3.75192519251925e+000,\n",
    "      3.79226255958929e+000,\n",
    "      3.83186651998533e+000,\n",
    "      3.87220388705537e+000,\n",
    "      3.91254125412541e+000,\n",
    "      3.95214521452145e+000,\n",
    "      3.99248258159149e+000\n",
    "\n",
    "  };\n",
    "\n",
    "  const vector<double> AN_07_07 = {\n",
    "      -1.25647231389806e-002,\n",
    "      -1.24874781595807e-002,\n",
    "      -1.23709959231217e-002,\n",
    "      -1.22872149960094e-002,\n",
    "      -1.21968981211847e-002,\n",
    "      -1.20804158847257e-002,\n",
    "      -1.20031709053258e-002,\n",
    "      -1.19063180827887e-002,\n",
    "      -1.17898358463297e-002,\n",
    "      -1.16733751806553e-002,\n",
    "      -1.16091805258957e-002,\n",
    "      -1.14992558079337e-002,\n",
    "      -1.13827951422593e-002,\n",
    "      -1.13186004874997e-002,\n",
    "      -1.12086757695377e-002,\n",
    "      -1.10922151038633e-002,\n",
    "      -1.09822688151168e-002,\n",
    "      -1.08984878880045e-002,\n",
    "      -1.08016350654673e-002,\n",
    "      -1.06851528290084e-002,\n",
    "      -1.05686921633340e-002,\n",
    "      -1.04522099268750e-002,\n",
    "      -1.03618930520503e-002,\n",
    "      -1.02258245432386e-002,\n",
    "      -1.01550939407666e-002,\n",
    "      -1.00451692228046e-002,\n",
    "      -9.92870855713022e-003,\n",
    "      -9.83837011152095e-003,\n",
    "      -9.75458918440864e-003,\n",
    "      -9.63810694794969e-003,\n",
    "      -9.57393386397463e-003,\n",
    "      -9.46400914601264e-003,\n",
    "      -9.36059880497854e-003,\n",
    "      -9.28988977329106e-003,\n",
    "      -9.19303695075390e-003,\n",
    "      -9.11577040056947e-003,\n",
    "      -9.02545352574473e-003,\n",
    "      -8.94167259863241e-003,\n",
    "      -8.87747794387282e-003,\n",
    "      -8.77408917362324e-003,\n",
    "      -8.70989451886365e-003,\n",
    "      -8.65225738260101e-003,\n",
    "      -8.54886861235143e-003,\n",
    "      -8.47813800987942e-003,\n",
    "      -8.42050087361677e-003,\n",
    "      -8.32364805107962e-003,\n",
    "      -8.24638150089519e-003,\n",
    "      -8.18874436463254e-003,\n",
    "      -8.13108565758537e-003,\n",
    "      -8.04076878276063e-003,\n",
    "      -7.97005975107315e-003,\n",
    "      -7.89932914860113e-003,\n",
    "      -7.84169201233849e-003,\n",
    "      -7.78405487607584e-003,\n",
    "      -7.72639616902867e-003,\n",
    "      -7.66875903276602e-003,\n",
    "      -7.57842058715676e-003,\n",
    "      -7.50117560775685e-003,\n",
    "      -7.44353847149421e-003,\n",
    "      -7.40548760758429e-003,\n",
    "      -7.34785047132164e-003,\n",
    "      -7.27060549192174e-003,\n",
    "      -7.20641083716215e-003,\n",
    "      -7.14877370089950e-003,\n",
    "      -7.09113656463686e-003,\n",
    "      -7.03347785758968e-003,\n",
    "      -6.97584072132703e-003,\n",
    "      -6.95086175284195e-003,\n",
    "      -6.89976056429172e-003,\n",
    "      -6.86173127116633e-003,\n",
    "      -6.80407256411916e-003,\n",
    "      -6.74643542785651e-003,\n",
    "      -6.68879829159387e-003,\n",
    "      -6.63113958454669e-003,\n",
    "      -6.60618218684613e-003\n",
    "\n",
    "  };\n",
    "\n",
    "  const vector<double> pT_0_0 = {\n",
    "\n",
    "      1.02731939860653e+000,\n",
    "      1.10726072607261e+000,\n",
    "      1.18793546021269e+000,\n",
    "      1.26787678767877e+000,\n",
    "      1.34781811514485e+000,\n",
    "      1.42775944261093e+000,\n",
    "      1.54803813714705e+000,\n",
    "      1.62871287128713e+000,\n",
    "      1.70865419875321e+000,\n",
    "      1.78859552621929e+000,\n",
    "      1.86853685368537e+000,\n",
    "      1.94921158782545e+000,\n",
    "      2.02915291529153e+000,\n",
    "      2.10909424275761e+000,\n",
    "      2.18903557022369e+000,\n",
    "      2.22937293729373e+000,\n",
    "      2.30931426475981e+000,\n",
    "      2.38998899889989e+000,\n",
    "      2.46993032636597e+000,\n",
    "      2.54987165383205e+000,\n",
    "      2.62981298129813e+000,\n",
    "      2.71048771543821e+000,\n",
    "      2.79042904290429e+000,\n",
    "      2.87037037037037e+000,\n",
    "      2.99064906490649e+000,\n",
    "      3.07059039237257e+000,\n",
    "      3.15126512651265e+000,\n",
    "      3.23120645397873e+000,\n",
    "      3.31114778144481e+000,\n",
    "      3.39108910891089e+000,\n",
    "      3.47176384305097e+000,\n",
    "      3.55170517051705e+000,\n",
    "      3.63164649798313e+000,\n",
    "      3.71158782544921e+000,\n",
    "      3.83186651998533e+000,\n",
    "      3.91254125412541e+000,\n",
    "      3.99248258159149e+000\n",
    "\n",
    "  };\n",
    "\n",
    "  const vector<double> AN_0_0 = {\n",
    "\n",
    "      -3.42500916758342e-004,\n",
    "      -3.44852132272051e-004,\n",
    "      -3.73368709419959e-004,\n",
    "      -3.75719924933668e-004,\n",
    "      -3.78071140447377e-004,\n",
    "      -3.80422355961085e-004,\n",
    "      -3.83959964623915e-004,\n",
    "      -4.45156280333918e-004,\n",
    "      -4.47507495847623e-004,\n",
    "      -4.49858711361332e-004,\n",
    "      -4.52209926875041e-004,\n",
    "      -4.54582713173279e-004,\n",
    "      -4.56933928686988e-004,\n",
    "      -4.85428935050370e-004,\n",
    "      -5.20459889126169e-004,\n",
    "      -5.15110334562866e-004,\n",
    "      -5.23997497788992e-004,\n",
    "      -5.26370284087231e-004,\n",
    "      -5.28721499600940e-004,\n",
    "      -5.57216505964322e-004,\n",
    "      -5.72639616902865e-004,\n",
    "      -5.94620246338360e-004,\n",
    "      -5.96971461852065e-004,\n",
    "      -6.32002415927865e-004,\n",
    "      -6.61683815440368e-004,\n",
    "      -6.64035030954076e-004,\n",
    "      -6.99087555814406e-004,\n",
    "      -7.27582562177788e-004,\n",
    "      -7.29933777691497e-004,\n",
    "      -7.32284993205202e-004,\n",
    "      -7.34657779503441e-004,\n",
    "      -7.63152785866823e-004,\n",
    "      -7.98183739942622e-004,\n",
    "      -8.00534955456331e-004,\n",
    "      -8.62896093530921e-004,\n",
    "      -8.65268879829160e-004,\n",
    "      -8.67620095342865e-004\n",
    "\n",
    "  };\n",
    "\n",
    "  const vector<double> pT_07_n07 = {\n",
    "\n",
    "      1.00751741840851e+000,\n",
    "      1.01778511184452e+000,\n",
    "      1.04785478547855e+000,\n",
    "      1.05738907224056e+000,\n",
    "      1.08745874587459e+000,\n",
    "      1.09772643931060e+000,\n",
    "      1.13733039970664e+000,\n",
    "      1.17766776677668e+000,\n",
    "      1.18793546021269e+000,\n",
    "      1.21800513384672e+000,\n",
    "      1.22753942060873e+000,\n",
    "      1.25760909424276e+000,\n",
    "      1.26787678767877e+000,\n",
    "      1.29794646131280e+000,\n",
    "      1.30821415474881e+000,\n",
    "      1.33828382838284e+000,\n",
    "      1.34781811514485e+000,\n",
    "      1.38815548221489e+000,\n",
    "      1.42775944261093e+000,\n",
    "      1.46809680968097e+000,\n",
    "      1.50843417675101e+000,\n",
    "      1.54803813714705e+000,\n",
    "      1.58837550421709e+000,\n",
    "      1.61844517785112e+000,\n",
    "      1.62871287128713e+000,\n",
    "      1.65878254492116e+000,\n",
    "      1.66831683168317e+000,\n",
    "      1.69838650531720e+000,\n",
    "      1.70865419875321e+000,\n",
    "      1.72845617895123e+000,\n",
    "      1.73872387238724e+000,\n",
    "      1.76879354602127e+000,\n",
    "      1.77906123945728e+000,\n",
    "      1.79886321965530e+000,\n",
    "      1.80839750641731e+000,\n",
    "      1.83846718005134e+000,\n",
    "      1.84873487348735e+000,\n",
    "      1.86853685368537e+000,\n",
    "      1.87880454712138e+000,\n",
    "      1.89860652731940e+000,\n",
    "      1.90887422075541e+000,\n",
    "      1.93894389438944e+000,\n",
    "      1.94921158782545e+000,\n",
    "      1.96901356802347e+000,\n",
    "      1.97928126145948e+000,\n",
    "      2.00935093509351e+000,\n",
    "      2.01888522185552e+000,\n",
    "      2.03942060872754e+000,\n",
    "      2.04895489548955e+000,\n",
    "      2.06949028236157e+000,\n",
    "      2.07902456912358e+000,\n",
    "      2.10909424275761e+000,\n",
    "      2.11936193619362e+000,\n",
    "      2.14943160982765e+000,\n",
    "      2.15896589658966e+000,\n",
    "      2.17950128346168e+000,\n",
    "      2.18903557022369e+000,\n",
    "      2.20957095709571e+000,\n",
    "      2.21910524385772e+000,\n",
    "      2.24917491749175e+000,\n",
    "      2.25944261092776e+000,\n",
    "      2.27924459112578e+000,\n",
    "      2.28951228456179e+000,\n",
    "      2.31958195819582e+000,\n",
    "      2.32984965163183e+000,\n",
    "      2.35991932526586e+000,\n",
    "      2.36945361202787e+000,\n",
    "      2.39952328566190e+000,\n",
    "      2.40979097909791e+000,\n",
    "      2.43986065273194e+000,\n",
    "      2.45012834616795e+000,\n",
    "      2.46993032636597e+000,\n",
    "      2.48019801980198e+000,\n",
    "      2.51026769343601e+000,\n",
    "      2.51980198019802e+000,\n",
    "      2.54987165383205e+000,\n",
    "      2.57994132746608e+000,\n",
    "      2.59020902090209e+000,\n",
    "      2.62027869453612e+000,\n",
    "      2.62981298129813e+000,\n",
    "      2.65988265493216e+000,\n",
    "      2.68995232856619e+000,\n",
    "      2.70022002200220e+000,\n",
    "      2.73028969563623e+000,\n",
    "      2.74055738907224e+000,\n",
    "      2.77062706270627e+000,\n",
    "      2.78016134946828e+000,\n",
    "      2.80069673634030e+000,\n",
    "      2.81023102310231e+000,\n",
    "      2.84030069673634e+000,\n",
    "      2.85056839017235e+000,\n",
    "      2.88063806380638e+000,\n",
    "      2.89017235056839e+000,\n",
    "      2.92024202420242e+000,\n",
    "      2.93050971763843e+000,\n",
    "      2.96057939127246e+000,\n",
    "      2.97084708470847e+000,\n",
    "      3.00091675834250e+000,\n",
    "      3.01045104510451e+000,\n",
    "      3.04052071873854e+000,\n",
    "      3.05078841217455e+000,\n",
    "      3.08085808580858e+000,\n",
    "      3.11092775944261e+000,\n",
    "      3.12119545287862e+000,\n",
    "      3.15126512651265e+000,\n",
    "      3.16079941327466e+000,\n",
    "      3.19086908690869e+000,\n",
    "      3.20113678034470e+000,\n",
    "      3.23120645397873e+000,\n",
    "      3.24074074074074e+000,\n",
    "      3.27081041437477e+000,\n",
    "      3.28107810781078e+000,\n",
    "      3.31114778144481e+000,\n",
    "      3.32141547488082e+000,\n",
    "      3.35148514851485e+000,\n",
    "      3.36101943527686e+000,\n",
    "      3.39108910891089e+000,\n",
    "      3.40135680234690e+000,\n",
    "      3.43142647598093e+000,\n",
    "      3.47176384305097e+000,\n",
    "      3.48129812981298e+000,\n",
    "      3.51136780344701e+000,\n",
    "      3.52163549688302e+000,\n",
    "      3.55170517051705e+000,\n",
    "      3.56197286395306e+000,\n",
    "      3.59204253758709e+000,\n",
    "      3.60157682434910e+000,\n",
    "      3.63164649798313e+000,\n",
    "      3.64191419141914e+000,\n",
    "      3.67198386505317e+000,\n",
    "      3.68151815181518e+000,\n",
    "      3.71158782544921e+000,\n",
    "      3.72185551888522e+000,\n",
    "      3.75192519251925e+000,\n",
    "      3.76219288595526e+000,\n",
    "      3.79226255958929e+000,\n",
    "      3.80179684635130e+000,\n",
    "      3.83186651998533e+000,\n",
    "      3.84213421342134e+000,\n",
    "      3.87220388705537e+000,\n",
    "      3.88247158049138e+000,\n",
    "      3.91254125412541e+000,\n",
    "      3.92207554088742e+000,\n",
    "      3.95214521452145e+000,\n",
    "      3.96241290795746e+000};\n",
    "\n",
    "  const vector<double> AN_07_n07 = {\n",
    "\n",
    "      -2.49824413813930e-002,\n",
    "      -2.49827433723765e-002,\n",
    "      -2.49836277745422e-002,\n",
    "      -2.49904441424535e-002,\n",
    "      -2.48998252766453e-002,\n",
    "      -2.50047024310274e-002,\n",
    "      -2.49274358808430e-002,\n",
    "      -2.49024784831424e-002,\n",
    "      -2.49616040035376e-002,\n",
    "      -2.48513772945922e-002,\n",
    "      -2.48778015056408e-002,\n",
    "      -2.48133264306823e-002,\n",
    "      -2.47874846308160e-002,\n",
    "      -2.47164736081451e-002,\n",
    "      -2.47298474945534e-002,\n",
    "      -2.46130848378956e-002,\n",
    "      -2.46721887875062e-002,\n",
    "      -2.45818719126815e-002,\n",
    "      -2.44588537285101e-002,\n",
    "      -2.43358571151233e-002,\n",
    "      -2.42193964494489e-002,\n",
    "      -2.40898423175651e-002,\n",
    "      -2.39472378610410e-002,\n",
    "      -2.37389719364093e-002,\n",
    "      -2.38242412476542e-002,\n",
    "      -2.36225112707349e-002,\n",
    "      -2.36620073772083e-002,\n",
    "      -2.34537414525766e-002,\n",
    "      -2.35063310252594e-002,\n",
    "      -2.32127957893829e-002,\n",
    "      -2.32784572574905e-002,\n",
    "      -2.30244396988719e-002,\n",
    "      -2.30966371146919e-002,\n",
    "      -2.28161737742402e-002,\n",
    "      -2.28491339330011e-002,\n",
    "      -2.26212601652322e-002,\n",
    "      -2.26280981039280e-002,\n",
    "      -2.23541707111888e-002,\n",
    "      -2.24198321792964e-002,\n",
    "      -2.21589766819819e-002,\n",
    "      -2.21527427252529e-002,\n",
    "      -2.19248689574840e-002,\n",
    "      -2.19839944778792e-002,\n",
    "      -2.17100670851399e-002,\n",
    "      -2.17365128669730e-002,\n",
    "      -2.15086390992040e-002,\n",
    "      -2.15154554671153e-002,\n",
    "      -2.12480855928730e-002,\n",
    "      -2.12810457516340e-002,\n",
    "      -2.10202118251041e-002,\n",
    "      -2.10466360361526e-002,\n",
    "      -2.08187622683837e-002,\n",
    "      -2.08452080502168e-002,\n",
    "      -2.06434780732975e-002,\n",
    "      -2.06372225457840e-002,\n",
    "      -2.03959964623913e-002,\n",
    "      -2.04551004120020e-002,\n",
    "      -2.01681226946224e-002,\n",
    "      -2.02141547488082e-002,\n",
    "      -1.99928169287517e-002,\n",
    "      -2.00519424491469e-002,\n",
    "      -1.98172307426821e-002,\n",
    "      -1.98175327336655e-002,\n",
    "      -1.96092668090338e-002,\n",
    "      -1.96422485385793e-002,\n",
    "      -1.94470545093725e-002,\n",
    "      -1.94669427727086e-002,\n",
    "      -1.92848206389266e-002,\n",
    "      -1.92916585776225e-002,\n",
    "      -1.91095364438405e-002,\n",
    "      -1.91163743825363e-002,\n",
    "      -1.88816626760715e-002,\n",
    "      -1.89211803533295e-002,\n",
    "      -1.87259863241226e-002,\n",
    "      -1.87654824305960e-002,\n",
    "      -1.85637524536767e-002,\n",
    "      -1.83293427381954e-002,\n",
    "      -1.83950042063030e-002,\n",
    "      -1.81605944908216e-002,\n",
    "      -1.82393062835695e-002,\n",
    "      -1.80114325158006e-002,\n",
    "      -1.78293103820186e-002,\n",
    "      -1.78622921115641e-002,\n",
    "      -1.76605621346448e-002,\n",
    "      -1.77131517073276e-002,\n",
    "      -1.75048857826959e-002,\n",
    "      -1.75378459414569e-002,\n",
    "      -1.73031558057767e-002,\n",
    "      -1.73491878599625e-002,\n",
    "      -1.71278500399060e-002,\n",
    "      -1.71869755603011e-002,\n",
    "      -1.70113893742315e-002,\n",
    "      -1.70312776375677e-002,\n",
    "      -1.68556914514981e-002,\n",
    "      -1.68952091287560e-002,\n",
    "      -1.66934791518368e-002,\n",
    "      -1.67199249336698e-002,\n",
    "      -1.65639465907375e-002,\n",
    "      -1.65707629586488e-002,\n",
    "      -1.64213205634289e-002,\n",
    "      -1.64281585021247e-002,\n",
    "      -1.62525723160551e-002,\n",
    "      -1.60769861299855e-002,\n",
    "      -1.61230397549559e-002,\n",
    "      -1.59278457257490e-002,\n",
    "      -1.59608058845100e-002,\n",
    "      -1.57917556461529e-002,\n",
    "      -1.58443452188356e-002,\n",
    "      -1.56622230850536e-002,\n",
    "      -1.56690394529649e-002,\n",
    "      -1.55195970577450e-002,\n",
    "      -1.55525787872905e-002,\n",
    "      -1.53966004443582e-002,\n",
    "      -1.54099743307664e-002,\n",
    "      -1.52474600401217e-002,\n",
    "      -1.52608123557454e-002,\n",
    "      -1.51179059082379e-002,\n",
    "      -1.52031752194827e-002,\n",
    "      -1.49883733471386e-002,\n",
    "      -1.48719126814642e-002,\n",
    "      -1.49114087879376e-002,\n",
    "      -1.47292866541556e-002,\n",
    "      -1.47949481222632e-002,\n",
    "      -1.45997540930564e-002,\n",
    "      -1.46784874565888e-002,\n",
    "      -1.44767574796695e-002,\n",
    "      -1.45620052201299e-002,\n",
    "      -1.43341314523609e-002,\n",
    "      -1.44324726590306e-002,\n",
    "      -1.42699583683859e-002,\n",
    "      -1.43094544748593e-002,\n",
    "      -1.41534761319269e-002,\n",
    "      -1.41864578614724e-002,\n",
    "      -1.40370154662525e-002,\n",
    "      -1.40699971957980e-002,\n",
    "      -1.39597704868526e-002,\n",
    "      -1.39404430639142e-002,\n",
    "      -1.38432882503937e-002,\n",
    "      -1.38566621368019e-002,\n",
    "      -1.37072197415820e-002,\n",
    "      -1.37467374188399e-002,\n",
    "      -1.36169028667573e-002,\n",
    "      -1.36302551823810e-002,\n",
    "      -1.35134925257232e-002,\n",
    "      -1.35660820984059e-002};\n",
    "\n",
    "  TGraph *g_07_07 = new TGraph(pT_07_07.size(), pT_07_07.data(), AN_07_07.data());\n",
    "  TGraph *g_0_0 = new TGraph(pT_0_0.size(), pT_0_0.data(), AN_0_0.data());\n",
    "  TGraph *g_07_n07 = new TGraph(pT_07_n07.size(), pT_07_n07.data(), AN_07_n07.data());\n",
    "\n",
    "  vector<double> pt_0;\n",
    "  vector<double> AN_0;\n",
    "  vector<double> pt_07;\n",
    "  vector<double> AN_07;\n",
    "\n",
    "  for (double pt = 1; pt < 4; pt += .1)\n",
    "  {\n",
    "    pt_0.push_back(pt);\n",
    "    pt_07.push_back(pt);\n",
    "\n",
    "    AN_0.push_back(g_0_0->Eval(pt));\n",
    "    AN_07.push_back(0.5 * (g_07_07->Eval(pt) + g_07_n07->Eval(pt)));\n",
    "  }\n",
    "\n",
    "  return make_pair(\n",
    "      new TGraph(pt_0.size(), pt_0.data(), AN_0.data()),\n",
    "      new TGraph(pt_07.size(), pt_07.data(), AN_07.data()));\n",
    "}"
   ]
  },
  {
   "cell_type": "markdown",
   "metadata": {},
   "source": [
    "## Projections"
   ]
  },
  {
   "cell_type": "code",
   "execution_count": 35,
   "metadata": {},
   "outputs": [
    {
     "name": "stdout",
     "output_type": "stream",
     "text": [
      "Save TH1 hframe\n",
      "Save TGraph Graph\n",
      "Save TGraph Graph\n",
      "Save TGraph Graph\n"
     ]
    },
    {
     "name": "stderr",
     "output_type": "stream",
     "text": [
      "Info in <TCanvas::Print>: png file fig_BUP2020/D0_BUP2020_AN_3yr.png has been created\n",
      "Info in <TCanvas::SaveAs>: ROOT file fig_BUP2020/D0_BUP2020_AN_3yr.root has been created\n",
      "Info in <TCanvas::Print>: eps file fig_BUP2020/D0_BUP2020_AN_3yr.eps has been created\n",
      "Info in <TCanvas::Print>: SVG file fig_BUP2020/D0_BUP2020_AN_3yr.svg has been created\n"
     ]
    },
    {
     "name": "stdout",
     "output_type": "stream",
     "text": [
      "removed ‘fig_BUP2020/D0_BUP2020_AN_3yr.svg’\n"
     ]
    },
    {
     "data": {
      "image/png": "[encoded data removed]",
      "text/plain": [
       "<IPython.core.display.Image object>"
      ]
     },
     "metadata": {},
     "output_type": "display_data"
    },
    {
     "name": "stderr",
     "output_type": "stream",
     "text": [
      "Info in <TCanvas::SaveSource>: C++ Macro file: fig_BUP2020/D0_BUP2020_AN_3yr.C has been generated\n"
     ]
    }
   ],
   "source": [
    "{\n",
    "\n",
    "    TGraphErrors * grProD0_AN_pp_3year \n",
    "        = GraphShiftCut(\n",
    "            Significance2AN( gProD0_Significance_pp_3year, 0, pp_beam_pol, 2),\n",
    "            0., 0,100);\n",
    "    TGraphErrors * grProD0_AN_pp_5year \n",
    "        = GraphShiftCut(\n",
    "            Significance2AN( gProD0_Significance_pp_5year, 0, pp_beam_pol, 1),\n",
    "            0., 0,100);\n",
    "    \n",
    "    grProD0_AN_pp_3year->SetMarkerStyle(kFullCircle);\n",
    "    grProD0_AN_pp_5year->SetMarkerStyle(kFullCircle);\n",
    "    \n",
    "    grProD0_AN_pp_3year->SetMarkerSize(2);\n",
    "    grProD0_AN_pp_5year->SetMarkerSize(2);\n",
    "        \n",
    "    grProD0_AN_pp_3year->SetLineWidth(4);\n",
    "    grProD0_AN_pp_5year->SetLineWidth(4);\n",
    "    \n",
    "    grProD0_AN_pp_3year->SetLineColorAlpha(kBlack, 1);\n",
    "    grProD0_AN_pp_5year->SetLineColorAlpha(kBlack, 1);\n",
    "    \n",
    "    grProD0_AN_pp_3year->SetMarkerColorAlpha(kBlack, 1);\n",
    "    grProD0_AN_pp_5year->SetMarkerColorAlpha(kBlack, 1);\n",
    "    \n",
    "    \n",
    "    \n",
    "    auto gs = getD0AN();\n",
    "    auto g0 = gs.first;\n",
    "    auto g07 = gs.second;\n",
    "\n",
    "    assert(g0);\n",
    "    assert(g07);\n",
    "\n",
    "        \n",
    "    TCanvas *c1 = new TCanvas(\"D0_BUP2020_AN_3yr\" ,\n",
    "                  \"D0_BUP2020OOArArO_AN_3yr\" , 1100, 800);\n",
    "    c1->Divide(1, 1);\n",
    "    int idx = 1;\n",
    "    TPad *p;\n",
    "\n",
    "    p = (TPad *) c1->cd(idx++);\n",
    "    c1->Update();\n",
    "    p->DrawFrame(0, -.025, 5, 0.035)->SetTitle(\";#it{p}_{T} [GeV];A_{N}\");\n",
    "    (new TLine(0, -.0, 5, .0))->Draw();\n",
    "    \n",
    "    g0->Draw(\"l\");\n",
    "    g0->SetLineColor(kCyan + 3);\n",
    "    g0->SetLineWidth(5);\n",
    "\n",
    "    g07->Draw(\"l\");\n",
    "    g07->SetLineStyle(kDashed);\n",
    "    g07->SetLineColor(kBlue+2);\n",
    "    g07->SetLineWidth(5);\n",
    "    \n",
    "    \n",
    "    grProD0_AN_pp_3year->DrawClone(\"p\");\n",
    "//     grProD0_AN_pp_5year->DrawClone(\"p\");\n",
    "    \n",
    "    TLegend *leg = new TLegend(.0, .8, .83, .95);\n",
    "    leg->SetFillStyle(0);\n",
    "//     leg->AddEntry(\"\", \"#it{#bf{sPHENIX}} Projection\", \"\");\n",
    "    leg->AddEntry(\"\", Form(\"#it{#bf{sPHENIX}} Projection, p#uparrow+p#rightarrowD^{0}/#bar{D}^{0}+X, P=%.2f\", pp_beam_pol), \"\");\n",
    "    leg->Draw();\n",
    "    \n",
    "    leg = new TLegend(.2, .58 ,.85, .83);\n",
    "    leg->SetFillStyle(0);\n",
    "    leg->AddEntry(grProD0_AN_pp_3year, Form(\"%.1f pb^{-1} str. p+p, Year 1-3\", pp_rec_3year/1e12), \"pl\");\n",
    "//     leg->AddEntry(grProD0_AN_pp_5year, Form(\"%.0f pb^{-1} str. p+p, Year 1-5\", pp_rec_5year/1e12), \"lp\");\n",
    "    leg->AddEntry(g0, \"Kang, PRD#bf{78}, #lambda_{f} = #lambda_{d} = 0\", \"l\");\n",
    "    leg->AddEntry(g07, \"Kang, PRD#bf{78}, #lambda_{f} = -#lambda_{d} = 70 MeV\", \"l\");\n",
    "    leg->Draw();\n",
    "    \n",
    "    c1->Draw();\n",
    "    SaveCanvas(c1, \"fig_BUP2020/\" + TString(c1->GetName()), kTRUE);\n",
    "    \n",
    "    \n",
    "}"
   ]
  },
  {
   "cell_type": "code",
   "execution_count": 36,
   "metadata": {},
   "outputs": [
    {
     "name": "stderr",
     "output_type": "stream",
     "text": [
      "Info in <TCanvas::Print>: png file fig_BUP2020/D0_BUP2020_AN_5yr_comparison.png has been created\n"
     ]
    },
    {
     "name": "stdout",
     "output_type": "stream",
     "text": [
      "Save TH1 hframe\n",
      "Save TGraph Graph\n",
      "Save TGraph Graph\n"
     ]
    },
    {
     "name": "stderr",
     "output_type": "stream",
     "text": [
      "Info in <TCanvas::SaveAs>: ROOT file fig_BUP2020/D0_BUP2020_AN_5yr_comparison.root has been created\n"
     ]
    },
    {
     "name": "stdout",
     "output_type": "stream",
     "text": [
      "Save TGraph Graph\n",
      "Save TGraph Graph\n"
     ]
    },
    {
     "name": "stderr",
     "output_type": "stream",
     "text": [
      "Info in <TCanvas::Print>: eps file fig_BUP2020/D0_BUP2020_AN_5yr_comparison.eps has been created\n",
      "Info in <TCanvas::Print>: SVG file fig_BUP2020/D0_BUP2020_AN_5yr_comparison.svg has been created\n"
     ]
    },
    {
     "data": {
      "image/png": "[encoded data removed]",
      "text/plain": [
       "<IPython.core.display.Image object>"
      ]
     },
     "metadata": {},
     "output_type": "display_data"
    },
    {
     "name": "stdout",
     "output_type": "stream",
     "text": [
      "removed ‘fig_BUP2020/D0_BUP2020_AN_5yr_comparison.svg’\n"
     ]
    },
    {
     "name": "stderr",
     "output_type": "stream",
     "text": [
      "Info in <TCanvas::SaveSource>: C++ Macro file: fig_BUP2020/D0_BUP2020_AN_5yr_comparison.C has been generated\n"
     ]
    }
   ],
   "source": [
    "{\n",
    "\n",
    "    TGraphErrors * grProD0_AN_pp_3year \n",
    "        = GraphShiftCut(\n",
    "            Significance2AN( gProD0_Significance_pp_3year, 0, pp_beam_pol, 2),\n",
    "            0., 0,100);\n",
    "    TGraphErrors * grProD0_AN_pp_5year \n",
    "        = GraphShiftCut(\n",
    "            Significance2AN( gProD0_Significance_pp_5year, 0, pp_beam_pol, 1),\n",
    "            0., 0,100);\n",
    "    \n",
    "    grProD0_AN_pp_3year->SetMarkerStyle(kOpenCircle);\n",
    "    grProD0_AN_pp_5year->SetMarkerStyle(kFullCircle);\n",
    "    \n",
    "    grProD0_AN_pp_3year->SetMarkerSize(2);\n",
    "    grProD0_AN_pp_5year->SetMarkerSize(2);\n",
    "        \n",
    "    grProD0_AN_pp_3year->SetLineWidth(4);\n",
    "    grProD0_AN_pp_5year->SetLineWidth(4);\n",
    "    \n",
    "    grProD0_AN_pp_3year->SetLineColorAlpha(kGray+1, 1);\n",
    "    grProD0_AN_pp_5year->SetLineColorAlpha(kBlack, 1);\n",
    "    \n",
    "    grProD0_AN_pp_3year->SetMarkerColorAlpha(kGray+1, 1);\n",
    "    grProD0_AN_pp_5year->SetMarkerColorAlpha(kBlack, 1);\n",
    "    \n",
    "    \n",
    "    \n",
    "    auto gs = getD0AN();\n",
    "    auto g0 = gs.first;\n",
    "    auto g07 = gs.second;\n",
    "\n",
    "    assert(g0);\n",
    "    assert(g07);\n",
    "\n",
    "        \n",
    "    TCanvas *c1 = new TCanvas(\"D0_BUP2020_AN_5yr_comparison\" ,\n",
    "                  \"D0_BUP2020OOArArO_AN_5yr_comparison\" , 1100, 800);\n",
    "    c1->Divide(1, 1);\n",
    "    int idx = 1;\n",
    "    TPad *p;\n",
    "\n",
    "    p = (TPad *) c1->cd(idx++);\n",
    "    c1->Update();\n",
    "\n",
    "    p->DrawFrame(0, -.025, 5, 0.035)->SetTitle(\";#it{p}_{T} [GeV];A_{N}\");\n",
    "    (new TLine(0, -.0, 5, .0))->Draw();\n",
    "    \n",
    "    g0->Draw(\"l\");\n",
    "    g0->SetLineColor(kCyan + 3);\n",
    "    g0->SetLineWidth(5);\n",
    "\n",
    "    g07->Draw(\"l\");\n",
    "    g07->SetLineStyle(kDashed);\n",
    "    g07->SetLineColor(kBlue+2);\n",
    "    g07->SetLineWidth(5);\n",
    "    \n",
    "    \n",
    "    grProD0_AN_pp_3year->DrawClone(\"p\");\n",
    "    grProD0_AN_pp_5year->DrawClone(\"p\");\n",
    "    \n",
    "    TLegend * leg = new TLegend(.0, .8, .83, .95);\n",
    "    leg->SetFillStyle(0);\n",
    "//     leg->AddEntry(\"\", \"#it{#bf{sPHENIX}} Projection\", \"\");\n",
    "    leg->AddEntry(\"\", Form(\"#it{#bf{sPHENIX}} Projection, p#uparrow+p#rightarrowD^{0}/#bar{D}^{0}+X, P=%.2f\", pp_beam_pol), \"\");\n",
    "    leg->Draw();\n",
    "    \n",
    "    leg = new TLegend(.2, .58 ,.85, .83);\n",
    "    leg->SetFillStyle(0);\n",
    "    leg->AddEntry(grProD0_AN_pp_3year, Form(\"%.1f pb^{-1} str. p+p, Year 1-3\", pp_rec_3year/1e12), \"pl\");\n",
    "    leg->AddEntry(grProD0_AN_pp_5year, Form(\"%.0f pb^{-1} str. p+p, Year 1-5\", pp_rec_5year/1e12), \"lp\");\n",
    "    leg->AddEntry(g0, \"Kang, PRD#bf{78}, #lambda_{f} = #lambda_{d} = 0\", \"l\");\n",
    "    leg->AddEntry(g07, \"Kang, PRD#bf{78}, #lambda_{f} = -#lambda_{d} = 70 MeV\", \"l\");\n",
    "    leg->Draw();\n",
    "    \n",
    "    c1->Draw();\n",
    "    SaveCanvas(c1, \"fig_BUP2020/\" + TString(c1->GetName()), kTRUE);\n",
    "}"
   ]
  },
  {
   "cell_type": "markdown",
   "metadata": {},
   "source": [
    "# Post ops"
   ]
  },
  {
   "cell_type": "code",
   "execution_count": 37,
   "metadata": {},
   "outputs": [
    {
     "name": "stderr",
     "output_type": "stream",
     "text": [
      "[NbConvertApp] Converting notebook D0_BUP2020.ipynb to html\n",
      "[NbConvertApp] Writing 692282 bytes to D0_BUP2020.html\n"
     ]
    },
    {
     "name": "stdout",
     "output_type": "stream",
     "text": [
      "(int) 0\n"
     ]
    }
   ],
   "source": [
    "gSystem->Exec(\"jupyter nbconvert --to html D0_BUP2020.ipynb\")"
   ]
  },
  {
   "cell_type": "code",
   "execution_count": null,
   "metadata": {},
   "outputs": [],
   "source": []
  }
 ],
 "metadata": {
  "kernelspec": {
   "display_name": "sPHENIX ROOT C++",
   "language": "c++",
   "name": "sphenix-root"
  },
  "language_info": {
   "codemirror_mode": "text/x-c++src",
   "file_extension": ".C",
   "mimetype": " text/x-c++src",
   "name": "c++"
  }
 },
 "nbformat": 4,
 "nbformat_minor": 4
}
